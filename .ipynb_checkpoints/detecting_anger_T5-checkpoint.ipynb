{
 "cells": [
  {
   "cell_type": "markdown",
   "metadata": {},
   "source": [
    "Here we are leveraging Google's T5 model and fine-tuning it on own data.\n",
    "\n",
    "Additionally, the script reads the data from GCP directly into TPU nodes, speeding up the process"
   ]
  },
  {
   "cell_type": "markdown",
   "metadata": {},
   "source": [
    "## First Install the required (special) packages"
   ]
  },
  {
   "cell_type": "code",
   "execution_count": null,
   "metadata": {
    "colab": {
     "base_uri": "https://localhost:8080/"
    },
    "id": "WtD_iumFJKIo",
    "outputId": "8a505b3f-17de-49b5-a35a-194ed3282775"
   },
   "outputs": [
    {
     "name": "stdout",
     "output_type": "stream",
     "text": [
      "Collecting sentencepiece\n",
      "  Downloading sentencepiece-0.1.96-cp37-cp37m-manylinux_2_17_x86_64.manylinux2014_x86_64.whl (1.2 MB)\n",
      "\u001b[K     |████████████████████████████████| 1.2 MB 5.6 MB/s eta 0:00:01\n",
      "\u001b[?25hInstalling collected packages: sentencepiece\n",
      "Successfully installed sentencepiece-0.1.96\n",
      "\u001b[K     |████████████████████████████████| 2.2 MB 8.0 MB/s \n",
      "\u001b[K     |████████████████████████████████| 43 kB 895 kB/s \n",
      "\u001b[K     |████████████████████████████████| 1.1 MB 32.5 MB/s \n",
      "\u001b[K     |████████████████████████████████| 47.7 MB 2.3 MB/s \n",
      "\u001b[K     |████████████████████████████████| 90 kB 5.1 MB/s \n",
      "\u001b[K     |████████████████████████████████| 234 kB 44.8 MB/s \n",
      "\u001b[K     |████████████████████████████████| 352 kB 15.4 MB/s \n",
      "\u001b[K     |████████████████████████████████| 4.9 MB 18.2 MB/s \n",
      "\u001b[K     |████████████████████████████████| 636 kB 29.6 MB/s \n",
      "\u001b[K     |████████████████████████████████| 99 kB 1.9 MB/s \n",
      "\u001b[K     |████████████████████████████████| 462 kB 55.9 MB/s \n",
      "\u001b[?25h  Building wheel for py-cpuinfo (setup.py) ... \u001b[?25l\u001b[?25hdone\n",
      "  Building wheel for seqeval (setup.py) ... \u001b[?25l\u001b[?25hdone\n",
      "Collecting transformers==4.17.0\n",
      "  Downloading transformers-4.17.0-py3-none-any.whl (3.8 MB)\n",
      "\u001b[K     |████████████████████████████████| 3.8 MB 5.6 MB/s \n",
      "\u001b[?25hRequirement already satisfied: packaging>=20.0 in /usr/local/lib/python3.7/dist-packages (from transformers==4.17.0) (21.3)\n",
      "Requirement already satisfied: requests in /usr/local/lib/python3.7/dist-packages (from transformers==4.17.0) (2.23.0)\n",
      "Collecting sacremoses\n",
      "  Downloading sacremoses-0.0.47-py2.py3-none-any.whl (895 kB)\n",
      "\u001b[K     |████████████████████████████████| 895 kB 34.4 MB/s \n",
      "\u001b[?25hCollecting tokenizers!=0.11.3,>=0.11.1\n",
      "  Downloading tokenizers-0.11.6-cp37-cp37m-manylinux_2_12_x86_64.manylinux2010_x86_64.whl (6.5 MB)\n",
      "\u001b[K     |████████████████████████████████| 6.5 MB 23.8 MB/s \n",
      "\u001b[?25hRequirement already satisfied: tqdm>=4.27 in /usr/local/lib/python3.7/dist-packages (from transformers==4.17.0) (4.63.0)\n",
      "Requirement already satisfied: numpy>=1.17 in /usr/local/lib/python3.7/dist-packages (from transformers==4.17.0) (1.21.5)\n",
      "Requirement already satisfied: importlib-metadata in /usr/local/lib/python3.7/dist-packages (from transformers==4.17.0) (4.11.2)\n",
      "Requirement already satisfied: regex!=2019.12.17 in /usr/local/lib/python3.7/dist-packages (from transformers==4.17.0) (2019.12.20)\n",
      "Requirement already satisfied: filelock in /usr/local/lib/python3.7/dist-packages (from transformers==4.17.0) (3.6.0)\n",
      "Requirement already satisfied: pyyaml>=5.1 in /usr/local/lib/python3.7/dist-packages (from transformers==4.17.0) (5.4.1)\n",
      "Collecting huggingface-hub<1.0,>=0.1.0\n",
      "  Downloading huggingface_hub-0.4.0-py3-none-any.whl (67 kB)\n",
      "\u001b[K     |████████████████████████████████| 67 kB 1.4 MB/s \n",
      "\u001b[?25hRequirement already satisfied: typing-extensions>=3.7.4.3 in /usr/local/lib/python3.7/dist-packages (from huggingface-hub<1.0,>=0.1.0->transformers==4.17.0) (3.10.0.2)\n",
      "Requirement already satisfied: pyparsing!=3.0.5,>=2.0.2 in /usr/local/lib/python3.7/dist-packages (from packaging>=20.0->transformers==4.17.0) (3.0.7)\n",
      "Requirement already satisfied: zipp>=0.5 in /usr/local/lib/python3.7/dist-packages (from importlib-metadata->transformers==4.17.0) (3.7.0)\n",
      "Requirement already satisfied: idna<3,>=2.5 in /usr/local/lib/python3.7/dist-packages (from requests->transformers==4.17.0) (2.10)\n",
      "Requirement already satisfied: chardet<4,>=3.0.2 in /usr/local/lib/python3.7/dist-packages (from requests->transformers==4.17.0) (3.0.4)\n",
      "Requirement already satisfied: urllib3!=1.25.0,!=1.25.1,<1.26,>=1.21.1 in /usr/local/lib/python3.7/dist-packages (from requests->transformers==4.17.0) (1.24.3)\n",
      "Requirement already satisfied: certifi>=2017.4.17 in /usr/local/lib/python3.7/dist-packages (from requests->transformers==4.17.0) (2021.10.8)\n",
      "Requirement already satisfied: six in /usr/local/lib/python3.7/dist-packages (from sacremoses->transformers==4.17.0) (1.15.0)\n",
      "Requirement already satisfied: joblib in /usr/local/lib/python3.7/dist-packages (from sacremoses->transformers==4.17.0) (1.1.0)\n",
      "Requirement already satisfied: click in /usr/local/lib/python3.7/dist-packages (from sacremoses->transformers==4.17.0) (7.1.2)\n",
      "Installing collected packages: tokenizers, sacremoses, huggingface-hub, transformers\n",
      "Successfully installed huggingface-hub-0.4.0 sacremoses-0.0.47 tokenizers-0.11.6 transformers-4.17.0\n"
     ]
    }
   ],
   "source": [
    "%pip install sentencepiece\n",
    "%pip install -q -U tf-models-official\n",
    "%pip install transformers==4.17.0"
   ]
  },
  {
   "cell_type": "markdown",
   "metadata": {
    "id": "xuJgGSqZQbfI"
   },
   "source": [
    "## Create TF records\n",
    "\n",
    "This step is only required if you don't have the TF records yet. Here I am converting my CSV dataset to then upload it to a GCP bucket."
   ]
  },
  {
   "cell_type": "code",
   "execution_count": null,
   "metadata": {
    "id": "D2i3V-wjJplI"
   },
   "outputs": [],
   "source": [
    "#Tokenize and encode the data in the TFRecord format.\n",
    "#TFRecord encoded data can be read directly by TPU processing nodes.\n",
    "\n",
    "\n",
    "import math\n",
    "import random\n",
    "\n",
    "from typing import List, Tuple\n",
    "\n",
    "import tensorflow as tf\n",
    "import pandas as pd\n",
    "\n",
    "from tqdm import tqdm\n",
    "\n",
    "from transformers import T5Tokenizer\n",
    "\n",
    "CLASS_TOKENS = ['anger', 'not_anger']\n",
    "\n",
    "\n",
    "def dataset_mapper(tokenizer, sep_token, example):\n",
    "    \"\"\" Called for each example in order to implement manual truncation.\n",
    "    \"\"\"\n",
    "    input_text = 'cola sentence: ' + example['text']\n",
    "    target_text = CLASS_TOKENS[example['class']]\n",
    "\n",
    "    input_encodings = tokenizer.encode_plus(input_text)\n",
    "    target_encodings = tokenizer.encode_plus(target_text, max_length=2)\n",
    "\n",
    "    vec = input_encodings['input_ids']\n",
    "\n",
    "    if len(vec) > 512:\n",
    "        input_encodings['input_ids'] = vec[:255] + [sep_token] + vec[-256:]\n",
    "        input_encodings['attention_mask'] = input_encodings['attention_mask'][:512]\n",
    "    elif len(vec) < 512:\n",
    "        pad = [0] * (512 - len(vec))\n",
    "        input_encodings['input_ids'] = vec + pad\n",
    "        input_encodings['attention_mask'] = input_encodings['attention_mask'] + pad\n",
    "\n",
    "    encodings = {\n",
    "        'input_ids': input_encodings['input_ids'],\n",
    "        'attention_mask': input_encodings['attention_mask'],\n",
    "        'labels': target_encodings['input_ids'],\n",
    "        'decoder_attention_mask': target_encodings['attention_mask']\n",
    "    }\n",
    "\n",
    "    return encodings\n",
    "\n",
    "\n",
    "def _int64_list_feature(value: List[int]):\n",
    "    \"\"\"Returns an int64_list from a bool / enum / int / uint.\"\"\"\n",
    "    return tf.train.Feature(int64_list=tf.train.Int64List(value=value))\n",
    "\n",
    "\n",
    "def make_tfrecord_dataset(tokenizer, df, filename):\n",
    "    sep_token = tokenizer.get_vocab()['<extra_id_1>']\n",
    "\n",
    "    with tf.io.TFRecordWriter(filename) as wr:\n",
    "        for _, row in tqdm(df.iterrows()):\n",
    "            encodings = dataset_mapper(tokenizer, sep_token, row)\n",
    "            features = {k: _int64_list_feature(v)\n",
    "                        for k, v in encodings.items()}\n",
    "            features['class'] = _int64_list_feature([row['class']])\n",
    "            example = tf.train.Example(\n",
    "                features=tf.train.Features(feature=features))\n",
    "            wr.write(example.SerializeToString())"
   ]
  },
  {
   "cell_type": "code",
   "execution_count": null,
   "metadata": {
    "id": "-yQxY9OERQsz"
   },
   "outputs": [],
   "source": [
    "class_map = {k: i for i, k in enumerate(['anger', 'not_anger'])}\n",
    "\n",
    "df_train = pd.read_csv('tweets_train.csv')\n",
    "df_train['class'] = df_train.label.map(class_map)\n",
    "\n",
    "df_valid = pd.read_csv('tweets_val.csv')\n",
    "df_valid['class'] = df_valid.label.map(class_map)"
   ]
  },
  {
   "cell_type": "code",
   "execution_count": null,
   "metadata": {
    "id": "zrZMadAF2rw4"
   },
   "outputs": [],
   "source": [
    "df_test = pd.read_csv('tweets_test.csv')\n",
    "df_test['class'] = df_test.label.map(class_map)"
   ]
  },
  {
   "cell_type": "markdown",
   "metadata": {},
   "source": [
    "The dataset contains tweets of UK electorate's reactions to the UK 2019 election candidate's tweets. They are manually annotated with (not)anger labels."
   ]
  },
  {
   "cell_type": "code",
   "execution_count": null,
   "metadata": {
    "colab": {
     "base_uri": "https://localhost:8080/",
     "height": 424
    },
    "id": "zOSKg_INSIaJ",
    "outputId": "2da2a8e0-64ac-414e-d891-e7614c76f93c"
   },
   "outputs": [
    {
     "data": {
      "text/html": [
       "\n",
       "  <div id=\"df-a81deec3-914f-4cd1-8a2b-48020a2b8c5e\">\n",
       "    <div class=\"colab-df-container\">\n",
       "      <div>\n",
       "<style scoped>\n",
       "    .dataframe tbody tr th:only-of-type {\n",
       "        vertical-align: middle;\n",
       "    }\n",
       "\n",
       "    .dataframe tbody tr th {\n",
       "        vertical-align: top;\n",
       "    }\n",
       "\n",
       "    .dataframe thead th {\n",
       "        text-align: right;\n",
       "    }\n",
       "</style>\n",
       "<table border=\"1\" class=\"dataframe\">\n",
       "  <thead>\n",
       "    <tr style=\"text-align: right;\">\n",
       "      <th></th>\n",
       "      <th>Unnamed: 0</th>\n",
       "      <th>text</th>\n",
       "      <th>label</th>\n",
       "      <th>class</th>\n",
       "    </tr>\n",
       "  </thead>\n",
       "  <tbody>\n",
       "    <tr>\n",
       "      <th>0</th>\n",
       "      <td>3773</td>\n",
       "      <td>@JonAshworth @JamesFrith Same as always taking...</td>\n",
       "      <td>anger</td>\n",
       "      <td>0</td>\n",
       "    </tr>\n",
       "    <tr>\n",
       "      <th>1</th>\n",
       "      <td>4546</td>\n",
       "      <td>@DavidLammy @CromwellStuff @Conservatives @Mat...</td>\n",
       "      <td>not_anger</td>\n",
       "      <td>1</td>\n",
       "    </tr>\n",
       "    <tr>\n",
       "      <th>2</th>\n",
       "      <td>2689</td>\n",
       "      <td>@jeremycorbyn Yup says Douche</td>\n",
       "      <td>not_anger</td>\n",
       "      <td>1</td>\n",
       "    </tr>\n",
       "    <tr>\n",
       "      <th>3</th>\n",
       "      <td>4878</td>\n",
       "      <td>@DrPhillipLee @DavidpHearn Any Labour backers ...</td>\n",
       "      <td>not_anger</td>\n",
       "      <td>1</td>\n",
       "    </tr>\n",
       "    <tr>\n",
       "      <th>4</th>\n",
       "      <td>5117</td>\n",
       "      <td>@BorisJohnson Stop telling people you want to ...</td>\n",
       "      <td>anger</td>\n",
       "      <td>0</td>\n",
       "    </tr>\n",
       "    <tr>\n",
       "      <th>...</th>\n",
       "      <td>...</td>\n",
       "      <td>...</td>\n",
       "      <td>...</td>\n",
       "      <td>...</td>\n",
       "    </tr>\n",
       "    <tr>\n",
       "      <th>985</th>\n",
       "      <td>5140</td>\n",
       "      <td>@jessphillips IвЂ™d call it a waste of time. A...</td>\n",
       "      <td>anger</td>\n",
       "      <td>0</td>\n",
       "    </tr>\n",
       "    <tr>\n",
       "      <th>986</th>\n",
       "      <td>6704</td>\n",
       "      <td>@BorisJohnson IвЂ™m sorry to have to break it ...</td>\n",
       "      <td>anger</td>\n",
       "      <td>0</td>\n",
       "    </tr>\n",
       "    <tr>\n",
       "      <th>987</th>\n",
       "      <td>5968</td>\n",
       "      <td>@JennyWLibDem @djnicholl Yep. But I'm also roo...</td>\n",
       "      <td>not_anger</td>\n",
       "      <td>1</td>\n",
       "    </tr>\n",
       "    <tr>\n",
       "      <th>988</th>\n",
       "      <td>7175</td>\n",
       "      <td>@CarrieAHarper @bootlegger1974 @Plaid_Cymru Ne...</td>\n",
       "      <td>not_anger</td>\n",
       "      <td>1</td>\n",
       "    </tr>\n",
       "    <tr>\n",
       "      <th>989</th>\n",
       "      <td>5239</td>\n",
       "      <td>@JamesCleverly I understood it straight away. ...</td>\n",
       "      <td>not_anger</td>\n",
       "      <td>1</td>\n",
       "    </tr>\n",
       "  </tbody>\n",
       "</table>\n",
       "<p>990 rows × 4 columns</p>\n",
       "</div>\n",
       "      <button class=\"colab-df-convert\" onclick=\"convertToInteractive('df-a81deec3-914f-4cd1-8a2b-48020a2b8c5e')\"\n",
       "              title=\"Convert this dataframe to an interactive table.\"\n",
       "              style=\"display:none;\">\n",
       "        \n",
       "  <svg xmlns=\"http://www.w3.org/2000/svg\" height=\"24px\"viewBox=\"0 0 24 24\"\n",
       "       width=\"24px\">\n",
       "    <path d=\"M0 0h24v24H0V0z\" fill=\"none\"/>\n",
       "    <path d=\"M18.56 5.44l.94 2.06.94-2.06 2.06-.94-2.06-.94-.94-2.06-.94 2.06-2.06.94zm-11 1L8.5 8.5l.94-2.06 2.06-.94-2.06-.94L8.5 2.5l-.94 2.06-2.06.94zm10 10l.94 2.06.94-2.06 2.06-.94-2.06-.94-.94-2.06-.94 2.06-2.06.94z\"/><path d=\"M17.41 7.96l-1.37-1.37c-.4-.4-.92-.59-1.43-.59-.52 0-1.04.2-1.43.59L10.3 9.45l-7.72 7.72c-.78.78-.78 2.05 0 2.83L4 21.41c.39.39.9.59 1.41.59.51 0 1.02-.2 1.41-.59l7.78-7.78 2.81-2.81c.8-.78.8-2.07 0-2.86zM5.41 20L4 18.59l7.72-7.72 1.47 1.35L5.41 20z\"/>\n",
       "  </svg>\n",
       "      </button>\n",
       "      \n",
       "  <style>\n",
       "    .colab-df-container {\n",
       "      display:flex;\n",
       "      flex-wrap:wrap;\n",
       "      gap: 12px;\n",
       "    }\n",
       "\n",
       "    .colab-df-convert {\n",
       "      background-color: #E8F0FE;\n",
       "      border: none;\n",
       "      border-radius: 50%;\n",
       "      cursor: pointer;\n",
       "      display: none;\n",
       "      fill: #1967D2;\n",
       "      height: 32px;\n",
       "      padding: 0 0 0 0;\n",
       "      width: 32px;\n",
       "    }\n",
       "\n",
       "    .colab-df-convert:hover {\n",
       "      background-color: #E2EBFA;\n",
       "      box-shadow: 0px 1px 2px rgba(60, 64, 67, 0.3), 0px 1px 3px 1px rgba(60, 64, 67, 0.15);\n",
       "      fill: #174EA6;\n",
       "    }\n",
       "\n",
       "    [theme=dark] .colab-df-convert {\n",
       "      background-color: #3B4455;\n",
       "      fill: #D2E3FC;\n",
       "    }\n",
       "\n",
       "    [theme=dark] .colab-df-convert:hover {\n",
       "      background-color: #434B5C;\n",
       "      box-shadow: 0px 1px 3px 1px rgba(0, 0, 0, 0.15);\n",
       "      filter: drop-shadow(0px 1px 2px rgba(0, 0, 0, 0.3));\n",
       "      fill: #FFFFFF;\n",
       "    }\n",
       "  </style>\n",
       "\n",
       "      <script>\n",
       "        const buttonEl =\n",
       "          document.querySelector('#df-a81deec3-914f-4cd1-8a2b-48020a2b8c5e button.colab-df-convert');\n",
       "        buttonEl.style.display =\n",
       "          google.colab.kernel.accessAllowed ? 'block' : 'none';\n",
       "\n",
       "        async function convertToInteractive(key) {\n",
       "          const element = document.querySelector('#df-a81deec3-914f-4cd1-8a2b-48020a2b8c5e');\n",
       "          const dataTable =\n",
       "            await google.colab.kernel.invokeFunction('convertToInteractive',\n",
       "                                                     [key], {});\n",
       "          if (!dataTable) return;\n",
       "\n",
       "          const docLinkHtml = 'Like what you see? Visit the ' +\n",
       "            '<a target=\"_blank\" href=https://colab.research.google.com/notebooks/data_table.ipynb>data table notebook</a>'\n",
       "            + ' to learn more about interactive tables.';\n",
       "          element.innerHTML = '';\n",
       "          dataTable['output_type'] = 'display_data';\n",
       "          await google.colab.output.renderOutput(dataTable, element);\n",
       "          const docLink = document.createElement('div');\n",
       "          docLink.innerHTML = docLinkHtml;\n",
       "          element.appendChild(docLink);\n",
       "        }\n",
       "      </script>\n",
       "    </div>\n",
       "  </div>\n",
       "  "
      ],
      "text/plain": [
       "     Unnamed: 0                                               text      label  \\\n",
       "0          3773  @JonAshworth @JamesFrith Same as always taking...      anger   \n",
       "1          4546  @DavidLammy @CromwellStuff @Conservatives @Mat...  not_anger   \n",
       "2          2689                      @jeremycorbyn Yup says Douche  not_anger   \n",
       "3          4878  @DrPhillipLee @DavidpHearn Any Labour backers ...  not_anger   \n",
       "4          5117  @BorisJohnson Stop telling people you want to ...      anger   \n",
       "..          ...                                                ...        ...   \n",
       "985        5140  @jessphillips IвЂ™d call it a waste of time. A...      anger   \n",
       "986        6704  @BorisJohnson IвЂ™m sorry to have to break it ...      anger   \n",
       "987        5968  @JennyWLibDem @djnicholl Yep. But I'm also roo...  not_anger   \n",
       "988        7175  @CarrieAHarper @bootlegger1974 @Plaid_Cymru Ne...  not_anger   \n",
       "989        5239  @JamesCleverly I understood it straight away. ...  not_anger   \n",
       "\n",
       "     class  \n",
       "0        0  \n",
       "1        1  \n",
       "2        1  \n",
       "3        1  \n",
       "4        0  \n",
       "..     ...  \n",
       "985      0  \n",
       "986      0  \n",
       "987      1  \n",
       "988      1  \n",
       "989      1  \n",
       "\n",
       "[990 rows x 4 columns]"
      ]
     },
     "execution_count": 14,
     "metadata": {},
     "output_type": "execute_result"
    }
   ],
   "source": [
    "df_valid"
   ]
  },
  {
   "cell_type": "code",
   "execution_count": null,
   "metadata": {
    "colab": {
     "base_uri": "https://localhost:8080/",
     "height": 153,
     "referenced_widgets": [
      "5b95d76ec13c4f5491b1a19e17b4e058",
      "81e22b405af5432580250925d9dbec5a",
      "8a252ca47d394475828c6da837b3d9f8",
      "239fa24dbbb0463f8a0368660ddf6eb5",
      "03f136f57c714134bdcb64a0f1f06297",
      "5b12825d414a4e7badf7819b9c6c1abe",
      "1caae6df09314c358ba6718e47b6abb3",
      "7008b750eca9406cbd073f6c990b0186",
      "9b0dd3fe65544531abe26e9d4b81541d",
      "6acbd2fbad1d43fa8d39431023033f89",
      "d1e3583f51e542328116b962f395c0f6",
      "fe7d92b725d646ee996e859d7f2e3b02",
      "0b45d55a37834e81ba20e283e48d59f7",
      "77972cdcaf094842ad52e6794ced4974",
      "1533d0c30927467484dac0f3229e022d",
      "db2199b6d43849d493d9f0ead9bba7b7",
      "b24447c85d1f4171b244b49140b9726a",
      "6030612951014a329d20e11f24655c62",
      "fe168bee94e54c1f959d41c637ffddc3",
      "f93fc6918fe54ea18598d4e9318477be",
      "51bc4436998b4b809a6b144f8bb0a0f5",
      "bc372f92a8864d7f85870c2753304eee"
     ]
    },
    "id": "kIYmsrW7Pp3y",
    "outputId": "7e7f96e4-00b2-4c6c-c2a2-cd1331292bb6"
   },
   "outputs": [
    {
     "data": {
      "application/vnd.jupyter.widget-view+json": {
       "model_id": "5b95d76ec13c4f5491b1a19e17b4e058",
       "version_major": 2,
       "version_minor": 0
      },
      "text/plain": [
       "Downloading:   0%|          | 0.00/773k [00:00<?, ?B/s]"
      ]
     },
     "metadata": {},
     "output_type": "display_data"
    },
    {
     "data": {
      "application/vnd.jupyter.widget-view+json": {
       "model_id": "fe7d92b725d646ee996e859d7f2e3b02",
       "version_major": 2,
       "version_minor": 0
      },
      "text/plain": [
       "Downloading:   0%|          | 0.00/1.17k [00:00<?, ?B/s]"
      ]
     },
     "metadata": {},
     "output_type": "display_data"
    },
    {
     "name": "stderr",
     "output_type": "stream",
     "text": [
      "0it [00:00, ?it/s]Truncation was not explicitly activated but `max_length` is provided a specific value, please use `truncation=True` to explicitly truncate examples to max length. Defaulting to 'longest_first' truncation strategy. If you encode pairs of sequences (GLUE-style) with the tokenizer you can select this strategy more precisely by providing a specific strategy to `truncation`.\n",
      "6000it [00:10, 547.47it/s]\n",
      "990it [00:01, 901.40it/s]\n"
     ]
    }
   ],
   "source": [
    "tokenizer = T5Tokenizer.from_pretrained('t5-base')\n",
    "make_tfrecord_dataset(tokenizer, df_train, 'dataset_t5_train.tfrecord')\n",
    "make_tfrecord_dataset(tokenizer, df_valid, 'dataset_t5_valid.tfrecord')\n",
    "make_tfrecord_dataset(tokenizer, df_test, 'dataset_t5_test.tfrecord')"
   ]
  },
  {
   "cell_type": "markdown",
   "metadata": {
    "id": "OmDlLEeTrauX"
   },
   "source": [
    "## Environment setup\n",
    "\n",
    "- authentication for GCS accesss\n",
    "- install packages\n",
    "- tf distribution strategy\n",
    "\n",
    "To run the script yourself you would have to change the Google Cloud (GC) variables accordingly"
   ]
  },
  {
   "cell_type": "code",
   "execution_count": null,
   "metadata": {
    "colab": {
     "base_uri": "https://localhost:8080/"
    },
    "id": "8vXEeQNleJAH",
    "outputId": "404a7b55-a19a-4837-e435-1c8957e2f1da"
   },
   "outputs": [
    {
     "name": "stdout",
     "output_type": "stream",
     "text": [
      "Updated property [core/project].\n",
      "\n",
      "\n",
      "To take a quick anonymous survey, run:\n",
      "  $ gcloud survey\n",
      "\n"
     ]
    }
   ],
   "source": [
    "from google.colab import auth\n",
    "auth.authenticate_user()\n",
    "\n",
    "# https://cloud.google.com/resource-manager/docs/creating-managing-projects\n",
    "project_id = 'emotions-twitter'\n",
    "!gcloud config set project {project_id}"
   ]
  },
  {
   "cell_type": "code",
   "execution_count": null,
   "metadata": {
    "id": "dMd_hkJNdoW9"
   },
   "outputs": [],
   "source": [
    "\"\"\"\n",
    "Google cloud variables.\n",
    "\"\"\"\n",
    "GCLOUD_PROJECT= 'emotions-twitter'\n",
    "GCS_BUCKET= 'tfrecord_bucket_1'\n",
    "GCS_MODEL_DIR= '/t5-model2/'"
   ]
  },
  {
   "cell_type": "code",
   "execution_count": null,
   "metadata": {
    "colab": {
     "base_uri": "https://localhost:8080/"
    },
    "id": "NvlUbdGCJP03",
    "outputId": "294bfc34-e97a-4813-827a-8e0e2f372c89"
   },
   "outputs": [
    {
     "name": "stdout",
     "output_type": "stream",
     "text": [
      "INFO:tensorflow:Deallocate tpu buffers before initializing tpu system.\n"
     ]
    },
    {
     "name": "stderr",
     "output_type": "stream",
     "text": [
      "INFO:tensorflow:Deallocate tpu buffers before initializing tpu system.\n"
     ]
    },
    {
     "name": "stdout",
     "output_type": "stream",
     "text": [
      "INFO:tensorflow:Initializing the TPU system: grpc://10.3.146.122:8470\n"
     ]
    },
    {
     "name": "stderr",
     "output_type": "stream",
     "text": [
      "INFO:tensorflow:Initializing the TPU system: grpc://10.3.146.122:8470\n"
     ]
    },
    {
     "name": "stdout",
     "output_type": "stream",
     "text": [
      "INFO:tensorflow:Finished initializing TPU system.\n"
     ]
    },
    {
     "name": "stderr",
     "output_type": "stream",
     "text": [
      "INFO:tensorflow:Finished initializing TPU system.\n"
     ]
    },
    {
     "name": "stdout",
     "output_type": "stream",
     "text": [
      "INFO:tensorflow:Found TPU system:\n"
     ]
    },
    {
     "name": "stderr",
     "output_type": "stream",
     "text": [
      "INFO:tensorflow:Found TPU system:\n"
     ]
    },
    {
     "name": "stdout",
     "output_type": "stream",
     "text": [
      "INFO:tensorflow:*** Num TPU Cores: 8\n"
     ]
    },
    {
     "name": "stderr",
     "output_type": "stream",
     "text": [
      "INFO:tensorflow:*** Num TPU Cores: 8\n"
     ]
    },
    {
     "name": "stdout",
     "output_type": "stream",
     "text": [
      "INFO:tensorflow:*** Num TPU Workers: 1\n"
     ]
    },
    {
     "name": "stderr",
     "output_type": "stream",
     "text": [
      "INFO:tensorflow:*** Num TPU Workers: 1\n"
     ]
    },
    {
     "name": "stdout",
     "output_type": "stream",
     "text": [
      "INFO:tensorflow:*** Num TPU Cores Per Worker: 8\n"
     ]
    },
    {
     "name": "stderr",
     "output_type": "stream",
     "text": [
      "INFO:tensorflow:*** Num TPU Cores Per Worker: 8\n"
     ]
    },
    {
     "name": "stdout",
     "output_type": "stream",
     "text": [
      "INFO:tensorflow:*** Available Device: _DeviceAttributes(/job:localhost/replica:0/task:0/device:CPU:0, CPU, 0, 0)\n"
     ]
    },
    {
     "name": "stderr",
     "output_type": "stream",
     "text": [
      "INFO:tensorflow:*** Available Device: _DeviceAttributes(/job:localhost/replica:0/task:0/device:CPU:0, CPU, 0, 0)\n"
     ]
    },
    {
     "name": "stdout",
     "output_type": "stream",
     "text": [
      "INFO:tensorflow:*** Available Device: _DeviceAttributes(/job:worker/replica:0/task:0/device:CPU:0, CPU, 0, 0)\n"
     ]
    },
    {
     "name": "stderr",
     "output_type": "stream",
     "text": [
      "INFO:tensorflow:*** Available Device: _DeviceAttributes(/job:worker/replica:0/task:0/device:CPU:0, CPU, 0, 0)\n"
     ]
    },
    {
     "name": "stdout",
     "output_type": "stream",
     "text": [
      "INFO:tensorflow:*** Available Device: _DeviceAttributes(/job:worker/replica:0/task:0/device:TPU:0, TPU, 0, 0)\n"
     ]
    },
    {
     "name": "stderr",
     "output_type": "stream",
     "text": [
      "INFO:tensorflow:*** Available Device: _DeviceAttributes(/job:worker/replica:0/task:0/device:TPU:0, TPU, 0, 0)\n"
     ]
    },
    {
     "name": "stdout",
     "output_type": "stream",
     "text": [
      "INFO:tensorflow:*** Available Device: _DeviceAttributes(/job:worker/replica:0/task:0/device:TPU:1, TPU, 0, 0)\n"
     ]
    },
    {
     "name": "stderr",
     "output_type": "stream",
     "text": [
      "INFO:tensorflow:*** Available Device: _DeviceAttributes(/job:worker/replica:0/task:0/device:TPU:1, TPU, 0, 0)\n"
     ]
    },
    {
     "name": "stdout",
     "output_type": "stream",
     "text": [
      "INFO:tensorflow:*** Available Device: _DeviceAttributes(/job:worker/replica:0/task:0/device:TPU:2, TPU, 0, 0)\n"
     ]
    },
    {
     "name": "stderr",
     "output_type": "stream",
     "text": [
      "INFO:tensorflow:*** Available Device: _DeviceAttributes(/job:worker/replica:0/task:0/device:TPU:2, TPU, 0, 0)\n"
     ]
    },
    {
     "name": "stdout",
     "output_type": "stream",
     "text": [
      "INFO:tensorflow:*** Available Device: _DeviceAttributes(/job:worker/replica:0/task:0/device:TPU:3, TPU, 0, 0)\n"
     ]
    },
    {
     "name": "stderr",
     "output_type": "stream",
     "text": [
      "INFO:tensorflow:*** Available Device: _DeviceAttributes(/job:worker/replica:0/task:0/device:TPU:3, TPU, 0, 0)\n"
     ]
    },
    {
     "name": "stdout",
     "output_type": "stream",
     "text": [
      "INFO:tensorflow:*** Available Device: _DeviceAttributes(/job:worker/replica:0/task:0/device:TPU:4, TPU, 0, 0)\n"
     ]
    },
    {
     "name": "stderr",
     "output_type": "stream",
     "text": [
      "INFO:tensorflow:*** Available Device: _DeviceAttributes(/job:worker/replica:0/task:0/device:TPU:4, TPU, 0, 0)\n"
     ]
    },
    {
     "name": "stdout",
     "output_type": "stream",
     "text": [
      "INFO:tensorflow:*** Available Device: _DeviceAttributes(/job:worker/replica:0/task:0/device:TPU:5, TPU, 0, 0)\n"
     ]
    },
    {
     "name": "stderr",
     "output_type": "stream",
     "text": [
      "INFO:tensorflow:*** Available Device: _DeviceAttributes(/job:worker/replica:0/task:0/device:TPU:5, TPU, 0, 0)\n"
     ]
    },
    {
     "name": "stdout",
     "output_type": "stream",
     "text": [
      "INFO:tensorflow:*** Available Device: _DeviceAttributes(/job:worker/replica:0/task:0/device:TPU:6, TPU, 0, 0)\n"
     ]
    },
    {
     "name": "stderr",
     "output_type": "stream",
     "text": [
      "INFO:tensorflow:*** Available Device: _DeviceAttributes(/job:worker/replica:0/task:0/device:TPU:6, TPU, 0, 0)\n"
     ]
    },
    {
     "name": "stdout",
     "output_type": "stream",
     "text": [
      "INFO:tensorflow:*** Available Device: _DeviceAttributes(/job:worker/replica:0/task:0/device:TPU:7, TPU, 0, 0)\n"
     ]
    },
    {
     "name": "stderr",
     "output_type": "stream",
     "text": [
      "INFO:tensorflow:*** Available Device: _DeviceAttributes(/job:worker/replica:0/task:0/device:TPU:7, TPU, 0, 0)\n"
     ]
    },
    {
     "name": "stdout",
     "output_type": "stream",
     "text": [
      "INFO:tensorflow:*** Available Device: _DeviceAttributes(/job:worker/replica:0/task:0/device:TPU_SYSTEM:0, TPU_SYSTEM, 0, 0)\n"
     ]
    },
    {
     "name": "stderr",
     "output_type": "stream",
     "text": [
      "INFO:tensorflow:*** Available Device: _DeviceAttributes(/job:worker/replica:0/task:0/device:TPU_SYSTEM:0, TPU_SYSTEM, 0, 0)\n"
     ]
    },
    {
     "name": "stdout",
     "output_type": "stream",
     "text": [
      "INFO:tensorflow:*** Available Device: _DeviceAttributes(/job:worker/replica:0/task:0/device:XLA_CPU:0, XLA_CPU, 0, 0)\n"
     ]
    },
    {
     "name": "stderr",
     "output_type": "stream",
     "text": [
      "INFO:tensorflow:*** Available Device: _DeviceAttributes(/job:worker/replica:0/task:0/device:XLA_CPU:0, XLA_CPU, 0, 0)\n"
     ]
    },
    {
     "name": "stdout",
     "output_type": "stream",
     "text": [
      "Using TPU\n"
     ]
    }
   ],
   "source": [
    "import os\n",
    "import numpy as np\n",
    "import tensorflow as tf\n",
    "from official.nlp import optimization\n",
    "\n",
    "if os.environ.get('COLAB_TPU_ADDR'):\n",
    "  cluster_resolver = tf.distribute.cluster_resolver.TPUClusterResolver(tpu='')\n",
    "  tf.config.experimental_connect_to_cluster(cluster_resolver)\n",
    "  tf.tpu.experimental.initialize_tpu_system(cluster_resolver)\n",
    "  strategy = tf.distribute.TPUStrategy(cluster_resolver)\n",
    "  print('Using TPU')\n",
    "elif tf.config.list_physical_devices('GPU'):\n",
    "  strategy = tf.distribute.MirroredStrategy()\n",
    "  print('Using GPU') \n",
    "else:\n",
    "  strategy = tf.distribute.get_strategy()\n",
    "  print('Running on CPU is not recommended.')"
   ]
  },
  {
   "cell_type": "markdown",
   "metadata": {
    "id": "dyM6S2thrrAq"
   },
   "source": [
    "## Load the dataset\n",
    "\n",
    "With the TFRecord format the dataset can be read directly in the TPU nodes."
   ]
  },
  {
   "cell_type": "code",
   "execution_count": null,
   "metadata": {
    "id": "hLQF_FLdJZlt"
   },
   "outputs": [],
   "source": [
    "def tf_record_decoder(encoded):\n",
    "    features = {\n",
    "        \"input_ids\": tf.io.FixedLenFeature([512], tf.int64),\n",
    "        \"attention_mask\": tf.io.FixedLenFeature([512], tf.int64),\n",
    "        \"labels\": tf.io.FixedLenFeature([2], tf.int64),\n",
    "        \"decoder_attention_mask\": tf.io.FixedLenFeature([2], tf.int64),\n",
    "        \"class\": tf.io.FixedLenFeature([1], tf.int64),\n",
    "    }\n",
    "    tf_record = tf.io.parse_single_example(encoded, features)\n",
    "    return tf_record\n",
    "\n",
    "def dataset_prepare(dataset, batch_size=32, training=False):\n",
    "    dataset = dataset.map(tf_record_decoder)\n",
    "    dataset = dataset.cache().prefetch(buffer_size=tf.data.AUTOTUNE)\n",
    "\n",
    "    if training:\n",
    "        dataset = dataset.shuffle(1*1024)\n",
    "\n",
    "    dataset = dataset.batch(batch_size)\n",
    "    return dataset"
   ]
  },
  {
   "cell_type": "code",
   "execution_count": null,
   "metadata": {
    "id": "g_KyUKyle9A9"
   },
   "outputs": [],
   "source": [
    "ds_tr_train = tf.data.TFRecordDataset(f'gs://{GCS_BUCKET}/t5-model2/dataset_t5_train.tfrecord')\n",
    "ds_tr_valid = tf.data.TFRecordDataset(f'gs://{GCS_BUCKET}/t5-model2/dataset_t5_valid.tfrecord')"
   ]
  },
  {
   "cell_type": "code",
   "execution_count": null,
   "metadata": {
    "id": "aYDnYMFVJbzo"
   },
   "outputs": [],
   "source": [
    "with strategy.scope():\n",
    "    ds_train = dataset_prepare(ds_tr_train, training=True)\n",
    "    ds_valid = dataset_prepare(ds_tr_valid)"
   ]
  },
  {
   "cell_type": "markdown",
   "metadata": {
    "id": "5TwHptV3r5MK"
   },
   "source": [
    "## Import the pre-trained model\n",
    "and helper functions\n"
   ]
  },
  {
   "cell_type": "code",
   "execution_count": null,
   "metadata": {
    "colab": {
     "base_uri": "https://localhost:8080/",
     "height": 182,
     "referenced_widgets": [
      "a13c3e219cd64d8fa17b5e352d90054b",
      "f27b65e525824d62bc3c6edcf1505774",
      "448736ff61ce473983c1839832c17b1a",
      "a4f9fbaf1a6e4954b6e81a63888b2be3",
      "89cbb9458f5d43159dba4f150a7f57ee",
      "899d78ad26cd4c3fbae14d7c18de969b",
      "bf3b69c402e74421a8e9278e83bc7afa",
      "15494cc13d5f4a2891a0ae1461e984c7",
      "485f539fab3d4248954b6ef87327ea00",
      "9f4c51577aca478182991b816c816a14",
      "fa99bfc4521948aaafe9f42c97244dab",
      "935eaaf2c3b747dc966c793e57beced2",
      "c8f96d4808cd405f8790c686cd7a1e07",
      "1931954c7d92475585b017e7f71fbb91",
      "0820ce89d7b440528e76daddfdb00959",
      "c5e0d7923f2c439a8f81800e3214aab1",
      "4517920f3d2e4b7f8e07101fa57f1bf1",
      "fd1a755feb2a4b449851eef5ebcb46e8",
      "c18ab89241464871b5ded11a5ab4c0e2",
      "608690553f80423ca8bf3cd86770d7ee",
      "231d5e02ed55466d927adbc3d70ea6b8",
      "6c0af0d01e4047f086eb9b1d33e5caa2",
      "4ce91bfb3f6e4550ac507e28f9f49923",
      "b04134e12cf84b3fae698d68d28c4624",
      "1282b60f02334c44933222131e79740a",
      "edf1edfeeb8949dab685c8e40b5d277b",
      "69773f8b7656432a996e8cca009cd238",
      "fac06cbb759942729aba8ed40ccf86e7",
      "cb31b1ec13c14740a73913b3c077b6f5",
      "ac11056549de4db09aba40d75247e3d0",
      "ac27f63416764ca0887c5df783e47684",
      "006ae817c1d4441383f0fd6b201101a1",
      "5e954990c2ce485e994c37fb757228d2"
     ]
    },
    "id": "X7lgPrgIJhUA",
    "outputId": "8eed46e5-7d51-405f-f641-ef8fc7fcf009"
   },
   "outputs": [
    {
     "data": {
      "application/vnd.jupyter.widget-view+json": {
       "model_id": "a13c3e219cd64d8fa17b5e352d90054b",
       "version_major": 2,
       "version_minor": 0
      },
      "text/plain": [
       "Downloading:   0%|          | 0.00/773k [00:00<?, ?B/s]"
      ]
     },
     "metadata": {},
     "output_type": "display_data"
    },
    {
     "data": {
      "application/vnd.jupyter.widget-view+json": {
       "model_id": "935eaaf2c3b747dc966c793e57beced2",
       "version_major": 2,
       "version_minor": 0
      },
      "text/plain": [
       "Downloading:   0%|          | 0.00/1.17k [00:00<?, ?B/s]"
      ]
     },
     "metadata": {},
     "output_type": "display_data"
    },
    {
     "data": {
      "application/vnd.jupyter.widget-view+json": {
       "model_id": "4ce91bfb3f6e4550ac507e28f9f49923",
       "version_major": 2,
       "version_minor": 0
      },
      "text/plain": [
       "Downloading:   0%|          | 0.00/851M [00:00<?, ?B/s]"
      ]
     },
     "metadata": {},
     "output_type": "display_data"
    },
    {
     "name": "stderr",
     "output_type": "stream",
     "text": [
      "All model checkpoint layers were used when initializing TFT5ForConditionalGeneration.\n",
      "\n",
      "All the layers of TFT5ForConditionalGeneration were initialized from the model checkpoint at t5-base.\n",
      "If your task is similar to the task the model of the checkpoint was trained on, you can already use TFT5ForConditionalGeneration for predictions without further training.\n"
     ]
    }
   ],
   "source": [
    "from transformers import T5Tokenizer, TFT5ForConditionalGeneration\n",
    "\n",
    "# with strategy.scope():\n",
    "#     tokenizer = T5Tokenizer.from_pretrained('t5-large')\n",
    "#     model = TFT5ForConditionalGeneration.from_pretrained('t5-large')\n",
    "\n",
    "with strategy.scope():\n",
    "    tokenizer = T5Tokenizer.from_pretrained('t5-base')\n",
    "    model = TFT5ForConditionalGeneration.from_pretrained('t5-base')"
   ]
  },
  {
   "cell_type": "markdown",
   "metadata": {
    "id": "dwl5VxNxr_0k"
   },
   "source": [
    "### Workaround for a bug in {train,test}_step\n",
    "\n",
    "There was an issue with using metrics with the Model train API which was fixed in https://github.com/huggingface/transformers/pull/14009\n"
   ]
  },
  {
   "cell_type": "code",
   "execution_count": null,
   "metadata": {
    "id": "8HpGW3_YK_1-"
   },
   "outputs": [],
   "source": [
    "from tensorflow.python.keras.engine import data_adapter\n",
    "\n",
    "def train_step(self, data):\n",
    "    \"\"\"\n",
    "    A modification of Keras's default train_step that cleans up the printed metrics when we use a dummy loss.\n",
    "    \"\"\"\n",
    "    # These are the only transformations `Model.fit` applies to user-input\n",
    "    # data when a `tf.data.Dataset` is provided.\n",
    "    data = data_adapter.expand_1d(data)\n",
    "    x, y, sample_weight = data_adapter.unpack_x_y_sample_weight(data)\n",
    "    # These next two lines differ from the base method - they avoid issues when the labels are in\n",
    "    # the input dict (and loss is computed internally)\n",
    "    if y is None and \"labels\" in x:\n",
    "        y = x[\"labels\"]  # Stops confusion with metric computations\n",
    "    # Run forward pass.\n",
    "    with tf.GradientTape() as tape:\n",
    "        y_pred = self(x, training=True)\n",
    "        loss = self.compiled_loss(y, y_pred, sample_weight, regularization_losses=self.losses)\n",
    "    # Run backwards pass.\n",
    "    self.optimizer.minimize(loss, self.trainable_variables, tape=tape)\n",
    "    self.compiled_metrics.update_state(y, y_pred['logits'], sample_weight)\n",
    "    # Collect metrics to return\n",
    "    return_metrics = {}\n",
    "    for metric in self.metrics:\n",
    "        result = metric.result()\n",
    "        if isinstance(result, dict):\n",
    "            return_metrics.update(result)\n",
    "        else:\n",
    "            return_metrics[metric.name] = result\n",
    "    # These next two lines are also not in the base method - they correct the displayed metrics\n",
    "    # when we're using a dummy loss, to avoid a bogus \"loss_loss\" value being shown.\n",
    "    if \"loss\" in return_metrics and \"loss_loss\" in return_metrics:\n",
    "        del return_metrics[\"loss_loss\"]\n",
    "    return return_metrics\n",
    "\n",
    "def test_step(self, data):\n",
    "    \"\"\"\n",
    "    A modification of Keras's default test_step that cleans up the printed metrics when we use a dummy loss.\n",
    "    \"\"\"\n",
    "    data = data_adapter.expand_1d(data)\n",
    "    x, y, sample_weight = data_adapter.unpack_x_y_sample_weight(data)\n",
    "    # These next two lines differ from the base method - they avoid issues when the labels are in\n",
    "    # the input dict (and loss is computed internally)\n",
    "    if y is None and \"labels\" in x:\n",
    "        y = x[\"labels\"]  # Stops confusion with metric computations\n",
    "    y_pred = self(x, training=False)\n",
    "    if not self.loss:\n",
    "        self.loss_tracker.update_state(y_pred.loss)\n",
    "        return_metrics = {\"loss\": self.loss_tracker.result()}\n",
    "    else:\n",
    "        # Run anyway to update state\n",
    "        return_metrics = {}\n",
    "    # Updates stateful loss metrics.\n",
    "    self.compiled_loss(y, y_pred, sample_weight, regularization_losses=self.losses)\n",
    "    self.compiled_metrics.update_state(y, y_pred['logits'], sample_weight)\n",
    "    # Collect metrics to return\n",
    "    for metric in self.metrics:\n",
    "        result = metric.result()\n",
    "        if isinstance(result, dict):\n",
    "            return_metrics.update(result)\n",
    "        else:\n",
    "            return_metrics[metric.name] = result\n",
    "    # These next two lines are also not in the base method - they correct the displayed metrics\n",
    "    # when we're using a dummy loss, to avoid a bogus \"loss_loss\" value being shown.\n",
    "    if \"loss\" in return_metrics and \"loss_loss\" in return_metrics:\n",
    "        del return_metrics[\"loss_loss\"]\n",
    "    return return_metrics\n"
   ]
  },
  {
   "cell_type": "code",
   "execution_count": null,
   "metadata": {
    "id": "62nOJOL9LluQ"
   },
   "outputs": [],
   "source": [
    "import functools\n",
    "model.train_step = functools.partial(train_step, model)\n",
    "model.test_step = functools.partial(test_step, model)"
   ]
  },
  {
   "cell_type": "markdown",
   "metadata": {
    "id": "uFe9Y6NMmHTF"
   },
   "source": [
    "## Define a class accuracy metric\n",
    "\n",
    "Save the model weights that achieve the highest accuracy on the test set. Used as a form of regularization. "
   ]
  },
  {
   "cell_type": "code",
   "execution_count": null,
   "metadata": {
    "id": "-WhaWBaVLI0x"
   },
   "outputs": [],
   "source": [
    "def _accuracy(y_true, y_pred):\n",
    "    return tf.keras.metrics.sparse_categorical_accuracy(y_true[:, 0], y_pred[:, 0])\n",
    "\n",
    "class ClassificationAccuracy(tf.keras.metrics.MeanMetricWrapper):\n",
    "  def __init__(self, name='accuracy', **kwargs):\n",
    "    super().__init__(_accuracy, name=name, **kwargs)\n"
   ]
  },
  {
   "cell_type": "markdown",
   "metadata": {
    "id": "OXCstMzzmbpZ"
   },
   "source": [
    "## Compile and train the model \n",
    "\n",
    "- sets up training hyperparameters (learning rate)\n",
    "- Unwrapping the `model.loss` dictionary is done so that `save_weights` works correctly. Otherwise `save_weights` throws an exception that a trackable has been modified."
   ]
  },
  {
   "cell_type": "code",
   "execution_count": null,
   "metadata": {
    "colab": {
     "base_uri": "https://localhost:8080/"
    },
    "id": "gEag2tNGJmV4",
    "outputId": "76276cdd-ecc8-4eb7-a4d3-376141fe95a5"
   },
   "outputs": [
    {
     "name": "stderr",
     "output_type": "stream",
     "text": [
      "No loss specified in compile() - the model's internal loss computation will be used as the loss. Don't panic - this is a common way to train TensorFlow models in Transformers! Please ensure your labels are passed as keys in the input dict so that they are accessible to the model during the forward pass. To disable this behaviour, please pass a loss argument, or explicitly pass loss=None if you do not want your model to compute a loss.\n"
     ]
    }
   ],
   "source": [
    "epochs = 30\n",
    "batch_size = 32\n",
    "init_lr = 1e-5\n",
    "\n",
    "steps_per_epoch = 1406\n",
    "num_train_steps = steps_per_epoch * epochs\n",
    "num_warmup_steps = num_train_steps // 10\n",
    "\n",
    "with strategy.scope():\n",
    "\n",
    "    optimizer = optimization.create_optimizer(\n",
    "        init_lr=init_lr,\n",
    "        num_train_steps=num_train_steps,\n",
    "        num_warmup_steps=num_warmup_steps,\n",
    "        optimizer_type='adamw')\n",
    "\n",
    "    model.compile(optimizer=optimizer, metrics=[ClassificationAccuracy()])\n",
    "    model.loss = dict(model.loss)"
   ]
  },
  {
   "cell_type": "markdown",
   "metadata": {
    "id": "fjPocYVrnWoW"
   },
   "source": [
    "## Train\n",
    "\n",
    "- The last batch with 8 examples, rather than 32, generates a NaN loss on TPU (but not on CPU). Use only the full batches.\n",
    "- Use only a subset of the validation set since in order to save on computation costs."
   ]
  },
  {
   "cell_type": "code",
   "execution_count": null,
   "metadata": {
    "colab": {
     "base_uri": "https://localhost:8080/"
    },
    "id": "HnVHvq17Jsc0",
    "outputId": "36c016d7-f55e-4066-bd32-3781ec024b6f"
   },
   "outputs": [
    {
     "name": "stdout",
     "output_type": "stream",
     "text": [
      "Epoch 1/30\n",
      "188/188 [==============================] - 316s 830ms/step - loss: nan - accuracy: 0.0000e+00 - val_loss: 12.5282 - val_accuracy: 0.0000e+00\n",
      "Epoch 2/30\n",
      "188/188 [==============================] - 47s 249ms/step - loss: nan - accuracy: 1.6667e-04 - val_loss: 5.0393 - val_accuracy: 0.0000e+00\n",
      "Epoch 3/30\n",
      "188/188 [==============================] - 56s 296ms/step - loss: nan - accuracy: 0.1428 - val_loss: 1.9270 - val_accuracy: 0.6374\n",
      "Epoch 4/30\n",
      "188/188 [==============================] - 54s 286ms/step - loss: nan - accuracy: 0.5617 - val_loss: 1.0775 - val_accuracy: 0.6707\n",
      "Epoch 5/30\n",
      "188/188 [==============================] - 54s 288ms/step - loss: nan - accuracy: 0.6362 - val_loss: 0.3029 - val_accuracy: 0.7091\n",
      "Epoch 6/30\n",
      "188/188 [==============================] - 54s 287ms/step - loss: nan - accuracy: 0.6758 - val_loss: 0.2671 - val_accuracy: 0.7374\n",
      "Epoch 7/30\n",
      "188/188 [==============================] - 54s 286ms/step - loss: nan - accuracy: 0.7062 - val_loss: 0.2894 - val_accuracy: 0.7424\n",
      "Epoch 8/30\n",
      "188/188 [==============================] - 54s 288ms/step - loss: nan - accuracy: 0.7280 - val_loss: 0.3090 - val_accuracy: 0.7596\n",
      "Epoch 9/30\n",
      "188/188 [==============================] - 54s 287ms/step - loss: nan - accuracy: 0.7520 - val_loss: 0.2596 - val_accuracy: 0.7949\n",
      "Epoch 10/30\n",
      "188/188 [==============================] - 56s 296ms/step - loss: nan - accuracy: 0.7752 - val_loss: 0.2603 - val_accuracy: 0.8020\n",
      "Epoch 11/30\n",
      "188/188 [==============================] - 47s 250ms/step - loss: nan - accuracy: 0.7712 - val_loss: 0.2739 - val_accuracy: 0.7899\n",
      "Epoch 12/30\n",
      "188/188 [==============================] - 55s 291ms/step - loss: nan - accuracy: 0.7857 - val_loss: 0.2442 - val_accuracy: 0.8131\n",
      "Epoch 13/30\n",
      "188/188 [==============================] - 48s 253ms/step - loss: nan - accuracy: 0.8042 - val_loss: 0.2620 - val_accuracy: 0.7960\n",
      "Epoch 14/30\n",
      "188/188 [==============================] - 54s 288ms/step - loss: nan - accuracy: 0.8060 - val_loss: 0.2317 - val_accuracy: 0.8182\n",
      "Epoch 15/30\n",
      "188/188 [==============================] - 48s 253ms/step - loss: nan - accuracy: 0.8098 - val_loss: 0.2698 - val_accuracy: 0.7899\n",
      "Epoch 16/30\n",
      "188/188 [==============================] - 48s 253ms/step - loss: nan - accuracy: 0.8142 - val_loss: 0.2549 - val_accuracy: 0.7949\n",
      "Epoch 17/30\n",
      "188/188 [==============================] - 47s 251ms/step - loss: nan - accuracy: 0.8212 - val_loss: 0.2351 - val_accuracy: 0.8091\n",
      "Epoch 18/30\n",
      "188/188 [==============================] - 47s 250ms/step - loss: nan - accuracy: 0.8297 - val_loss: 0.2305 - val_accuracy: 0.8111\n",
      "Epoch 19/30\n",
      "188/188 [==============================] - 54s 287ms/step - loss: nan - accuracy: 0.8322 - val_loss: 0.2211 - val_accuracy: 0.8313\n",
      "Epoch 20/30\n",
      "188/188 [==============================] - 47s 251ms/step - loss: nan - accuracy: 0.8418 - val_loss: 0.2310 - val_accuracy: 0.8192\n",
      "Epoch 21/30\n",
      "188/188 [==============================] - 56s 297ms/step - loss: nan - accuracy: 0.8478 - val_loss: 0.2160 - val_accuracy: 0.8374\n",
      "Epoch 22/30\n",
      "188/188 [==============================] - 47s 252ms/step - loss: nan - accuracy: 0.8552 - val_loss: 0.2454 - val_accuracy: 0.8010\n",
      "Epoch 23/30\n",
      "188/188 [==============================] - 47s 251ms/step - loss: nan - accuracy: 0.8618 - val_loss: 0.2200 - val_accuracy: 0.8354\n",
      "Epoch 24/30\n",
      "188/188 [==============================] - 47s 253ms/step - loss: nan - accuracy: 0.8638 - val_loss: 0.2485 - val_accuracy: 0.8111\n",
      "Epoch 25/30\n",
      "188/188 [==============================] - 47s 252ms/step - loss: nan - accuracy: 0.8708 - val_loss: 0.2410 - val_accuracy: 0.8242\n",
      "Epoch 26/30\n",
      "188/188 [==============================] - 47s 252ms/step - loss: nan - accuracy: 0.8812 - val_loss: 0.2333 - val_accuracy: 0.8343\n",
      "Epoch 27/30\n",
      "188/188 [==============================] - 48s 253ms/step - loss: nan - accuracy: 0.8793 - val_loss: 0.2439 - val_accuracy: 0.8364\n",
      "Epoch 28/30\n",
      "188/188 [==============================] - 48s 254ms/step - loss: nan - accuracy: 0.8890 - val_loss: 0.2549 - val_accuracy: 0.8343\n",
      "Epoch 29/30\n",
      "188/188 [==============================] - 47s 252ms/step - loss: nan - accuracy: 0.8975 - val_loss: 0.2901 - val_accuracy: 0.8131\n",
      "Epoch 30/30\n",
      "188/188 [==============================] - 48s 253ms/step - loss: nan - accuracy: 0.9000 - val_loss: 0.2775 - val_accuracy: 0.8242\n"
     ]
    }
   ],
   "source": [
    "checkpoint_filepath = f'gs://{GCS_BUCKET}/{GCS_MODEL_DIR}/checkpoint'\n",
    "\n",
    "model_checkpoint_callback = tf.keras.callbacks.ModelCheckpoint(\n",
    "    filepath=checkpoint_filepath,\n",
    "    save_weights_only=True,\n",
    "    monitor='val_accuracy',\n",
    "    mode='max',  \n",
    "    save_best_only=True)\n",
    "\n",
    "\n",
    "with strategy.scope():\n",
    "    history = model.fit(\n",
    "                x=ds_train.take(1406),\n",
    "                validation_data=ds_valid.take(200),\n",
    "                callbacks=[model_checkpoint_callback],\n",
    "                epochs=epochs)\n",
    "\n",
    "model.save_pretrained('t5-model')"
   ]
  },
  {
   "cell_type": "code",
   "execution_count": null,
   "metadata": {
    "id": "Xzg0kpgBKksV"
   },
   "outputs": [],
   "source": [
    "#model.save_pretrained('t5-model')"
   ]
  },
  {
   "cell_type": "code",
   "execution_count": null,
   "metadata": {
    "colab": {
     "base_uri": "https://localhost:8080/"
    },
    "id": "AFwnk3Dm-x0O",
    "outputId": "2d80fe0b-a810-4c8e-c73c-caa7e71d9972"
   },
   "outputs": [
    {
     "name": "stdout",
     "output_type": "stream",
     "text": [
      "Building synchronization state...\n",
      "Starting synchronization...\n",
      "Copying file://t5-model/config.json [Content-Type=application/json]...\n",
      "Copying file://t5-model/tf_model.h5 [Content-Type=application/octet-stream]...\n",
      "==> NOTE: You are uploading one or more large file(s), which would run\n",
      "significantly faster if you enable parallel composite uploads. This\n",
      "feature can be enabled by editing the\n",
      "\"parallel_composite_upload_threshold\" value in your .boto\n",
      "configuration file. However, note that if you do this large files will\n",
      "be uploaded as `composite objects\n",
      "<https://cloud.google.com/storage/docs/composite-objects>`_,which\n",
      "means that any user who downloads such objects will need to have a\n",
      "compiled crcmod installed (see \"gsutil help crcmod\"). This is because\n",
      "without a compiled crcmod, computing checksums on composite objects is\n",
      "so slow that gsutil disables downloads of composite objects.\n",
      "\n",
      "/\n",
      "Operation completed over 2 objects/850.8 MiB.                                    \n"
     ]
    }
   ],
   "source": [
    "!gsutil rsync t5-model gs://$GCS_BUCKET/$GCS_\n",
    "MODEL_DIR/"
   ]
  },
  {
   "cell_type": "markdown",
   "metadata": {},
   "source": [
    "## Evaluate the Results"
   ]
  },
  {
   "cell_type": "code",
   "execution_count": null,
   "metadata": {
    "id": "lHWRqc0j2GlV"
   },
   "outputs": [],
   "source": [
    "import pandas as pd\n",
    "test_df = pd.read_csv('tweets_test.csv')"
   ]
  },
  {
   "cell_type": "code",
   "execution_count": null,
   "metadata": {
    "id": "ETIbUGKW2FRW"
   },
   "outputs": [],
   "source": [
    "def tf_record_decoder(encoded):\n",
    "    features = {\n",
    "        \"input_ids\": tf.io.FixedLenFeature([512], tf.int64),\n",
    "        \"attention_mask\": tf.io.FixedLenFeature([512], tf.int64),\n",
    "        \"labels\": tf.io.FixedLenFeature([2], tf.int64),\n",
    "        \"decoder_attention_mask\": tf.io.FixedLenFeature([2], tf.int64),\n",
    "        \"class\": tf.io.FixedLenFeature([1], tf.int64),\n",
    "    }\n",
    "    tf_record = tf.io.parse_single_example(encoded, features)\n",
    "    return tf_record\n",
    "\n",
    "def dataset_prepare(dataset, batch_size=32, training=False):\n",
    "    dataset = dataset.map(tf_record_decoder)\n",
    "    dataset = dataset.cache().prefetch(buffer_size=tf.data.AUTOTUNE)\n",
    "\n",
    "    if training:\n",
    "        dataset = dataset.shuffle(1*1024)\n",
    "\n",
    "    dataset = dataset.batch(batch_size)\n",
    "    return dataset\n",
    "\n",
    "def eval_mapper(batch):\n",
    "    \"\"\" Map training entries in the format expected by model.predict\n",
    "        i.e. the decoder_inputs are set with the <bos> token (id = 1)\n",
    "        Since the expected classes are expressed as a single token\n",
    "        we can retrieve the output with a single call to predict rather\n",
    "        than using the more expensive text generation strategy that T5\n",
    "        uses to predict sentences.\n",
    "    \"\"\"\n",
    "    batch_size = tf.shape(batch['input_ids'])[0]\n",
    "    inputs = {\n",
    "        'input_ids': batch['input_ids'],\n",
    "        'attention_mask': batch['attention_mask'],\n",
    "        'decoder_input_ids': tf.zeros((batch_size, 1), dtype=tf.int32),\n",
    "        'decoder_attention_mask': tf.ones((batch_size, 1)),\n",
    "    }\n",
    "    return inputs"
   ]
  },
  {
   "cell_type": "code",
   "execution_count": null,
   "metadata": {
    "id": "Ren9WZyg3YZp"
   },
   "outputs": [],
   "source": [
    "ds_tr_test = tf.data.TFRecordDataset(f'gs://{GCS_BUCKET}/t5-model2/dataset_t5_test.tfrecord')"
   ]
  },
  {
   "cell_type": "code",
   "execution_count": null,
   "metadata": {
    "id": "pfmOHdEB2hEI"
   },
   "outputs": [],
   "source": [
    "with strategy.scope():\n",
    "    ds_test = dataset_prepare(ds_tr_test)\n",
    "    ds_eval = ds_test.map(eval_mapper)"
   ]
  },
  {
   "cell_type": "code",
   "execution_count": null,
   "metadata": {
    "id": "st046mS7-gYu"
   },
   "outputs": [],
   "source": [
    "class PredictionModel(tf.keras.Model):\n",
    "    \"\"\" The model call function is executed in the TPU.\n",
    "\n",
    "        This wrapper exists so that the argmax computation on logits is performed\n",
    "        on the TPU and only the token indices are transfered between TPU\n",
    "        and colab CPU. colab will run out of memory otherwise. Or one is\n",
    "        forced to execute the predict calls once batch at a time which leads\n",
    "        to graph setup/tear down costs.\n",
    "    \"\"\"\n",
    "    def __init__(self, model):\n",
    "        super().__init__()\n",
    "        self._model = model\n",
    "    \n",
    "    def call(self, inputs):\n",
    "        outputs = self._model(inputs)\n",
    "        return tf.argmax(outputs['logits'], axis=-1)"
   ]
  },
  {
   "cell_type": "code",
   "execution_count": null,
   "metadata": {
    "id": "R2lhGlo7EM7C"
   },
   "outputs": [],
   "source": [
    "import numpy as np\n",
    "\n",
    "class ClassDecoder(object):\n",
    "    \"\"\" Translate the class tokens into class ids.\n",
    "    \"\"\"\n",
    "    TOKENS = ['anger', 'not_anger']\n",
    "    def __init__(self, tokenizer):\n",
    "        self.tok_ids = [tokenizer.encode(tok)[0] for tok in self.TOKENS]\n",
    "\n",
    "    def _index(self, x):\n",
    "        try:\n",
    "            return self.tok_ids.index(x)\n",
    "        except ValueError:\n",
    "            return -1\n",
    "    \n",
    "    def __call__(self, y_pred_ids):\n",
    "        result = [self._index(x) for x in y_pred_ids]\n",
    "        return result"
   ]
  },
  {
   "cell_type": "code",
   "execution_count": null,
   "metadata": {
    "colab": {
     "base_uri": "https://localhost:8080/"
    },
    "id": "JIje9uLyJmjr",
    "outputId": "c5fc6edc-6766-4eaa-e67a-17b01c468e3c"
   },
   "outputs": [
    {
     "name": "stdout",
     "output_type": "stream",
     "text": [
      "CommandException: No URLs matched: gs://tfrecord_bucket_1//t5-model//config.json\n",
      "CommandException: No URLs matched: gs://tfrecord_bucket_1//t5-model//tf_model.h5\n"
     ]
    }
   ],
   "source": [
    "# import os\n",
    "# os.makedirs('t5-tuned', exist_ok=True)\n",
    "\n",
    "# !gsutil cp gs://$GCS_BUCKET/$GCS_MODEL_DIR/config.json t5-tuned/\n",
    "# !gsutil cp gs://$GCS_BUCKET/$GCS_MODEL_DIR/tf_model.h5 t5-tuned/"
   ]
  },
  {
   "cell_type": "code",
   "execution_count": null,
   "metadata": {
    "id": "1rxImrtzFjSo"
   },
   "outputs": [],
   "source": [
    "#from transformers import T5Tokenizer, TFT5ForConditionalGeneration\n",
    "\n",
    "with strategy.scope():\n",
    "    tokenizer = T5Tokenizer.from_pretrained('t5-base')\n",
    "    #model = TFT5ForConditionalGeneration.from_pretrained('./')\n",
    "    xmodel = PredictionModel(model)\n",
    "\n",
    "    decoder = ClassDecoder(tokenizer)"
   ]
  },
  {
   "cell_type": "code",
   "execution_count": null,
   "metadata": {
    "colab": {
     "base_uri": "https://localhost:8080/"
    },
    "id": "2_IQ2GqSME4f",
    "outputId": "264c4f5d-53d4-4169-9c7f-96a69de3ce84"
   },
   "outputs": [
    {
     "name": "stdout",
     "output_type": "stream",
     "text": [
      "16/16 [==============================] - 43s 76ms/step\n"
     ]
    }
   ],
   "source": [
    "with strategy.scope():\n",
    "    y_pred_ids = xmodel.predict(ds_eval, verbose=1)"
   ]
  },
  {
   "cell_type": "code",
   "execution_count": null,
   "metadata": {
    "id": "XgMykCB_MMUD"
   },
   "outputs": [],
   "source": [
    "decoder = ClassDecoder(tokenizer)\n",
    "y_pred = np.array(decoder(y_pred_ids))"
   ]
  },
  {
   "cell_type": "code",
   "execution_count": null,
   "metadata": {
    "id": "Cr1_vGXhMwA9"
   },
   "outputs": [],
   "source": [
    "test_df['eval'] = y_pred\n",
    "test_df.loc[test_df['eval'] == 1, 'eval'] = 'not_anger'\n",
    "test_df.loc[test_df['eval'] == 0, 'eval'] = 'anger'"
   ]
  },
  {
   "cell_type": "markdown",
   "metadata": {},
   "source": [
    "A quick look at the predicted v. true labels"
   ]
  },
  {
   "cell_type": "code",
   "execution_count": null,
   "metadata": {
    "colab": {
     "base_uri": "https://localhost:8080/",
     "height": 424
    },
    "id": "sUtdnu4LMbyR",
    "outputId": "9c5377c0-b350-43df-e591-df3b0eb5c5f7"
   },
   "outputs": [
    {
     "data": {
      "text/html": [
       "\n",
       "  <div id=\"df-c8f9a503-3b07-4b6d-b74a-d834f3cd2ab9\">\n",
       "    <div class=\"colab-df-container\">\n",
       "      <div>\n",
       "<style scoped>\n",
       "    .dataframe tbody tr th:only-of-type {\n",
       "        vertical-align: middle;\n",
       "    }\n",
       "\n",
       "    .dataframe tbody tr th {\n",
       "        vertical-align: top;\n",
       "    }\n",
       "\n",
       "    .dataframe thead th {\n",
       "        text-align: right;\n",
       "    }\n",
       "</style>\n",
       "<table border=\"1\" class=\"dataframe\">\n",
       "  <thead>\n",
       "    <tr style=\"text-align: right;\">\n",
       "      <th></th>\n",
       "      <th>Unnamed: 0</th>\n",
       "      <th>text</th>\n",
       "      <th>label</th>\n",
       "      <th>eval</th>\n",
       "    </tr>\n",
       "  </thead>\n",
       "  <tbody>\n",
       "    <tr>\n",
       "      <th>0</th>\n",
       "      <td>5527</td>\n",
       "      <td>@Azhar4Pendle @NinaWarhurst Well done you have...</td>\n",
       "      <td>not_anger</td>\n",
       "      <td>not_anger</td>\n",
       "    </tr>\n",
       "    <tr>\n",
       "      <th>1</th>\n",
       "      <td>6839</td>\n",
       "      <td>@BorisJohnson @JamesCleverly The only thing yo...</td>\n",
       "      <td>anger</td>\n",
       "      <td>anger</td>\n",
       "    </tr>\n",
       "    <tr>\n",
       "      <th>2</th>\n",
       "      <td>6550</td>\n",
       "      <td>@DavidGauke Don't think your convincing anyone.</td>\n",
       "      <td>not_anger</td>\n",
       "      <td>not_anger</td>\n",
       "    </tr>\n",
       "    <tr>\n",
       "      <th>3</th>\n",
       "      <td>5036</td>\n",
       "      <td>@BorisJohnson Say what you want, Al.. you are ...</td>\n",
       "      <td>anger</td>\n",
       "      <td>anger</td>\n",
       "    </tr>\n",
       "    <tr>\n",
       "      <th>4</th>\n",
       "      <td>4098</td>\n",
       "      <td>@jeremycorbyn They won't be voting for you dip...</td>\n",
       "      <td>anger</td>\n",
       "      <td>anger</td>\n",
       "    </tr>\n",
       "    <tr>\n",
       "      <th>...</th>\n",
       "      <td>...</td>\n",
       "      <td>...</td>\n",
       "      <td>...</td>\n",
       "      <td>...</td>\n",
       "    </tr>\n",
       "    <tr>\n",
       "      <th>505</th>\n",
       "      <td>4438</td>\n",
       "      <td>@DavidLammy HeвЂ™d better get back to his vaul...</td>\n",
       "      <td>anger</td>\n",
       "      <td>not_anger</td>\n",
       "    </tr>\n",
       "    <tr>\n",
       "      <th>506</th>\n",
       "      <td>6257</td>\n",
       "      <td>@BorisJohnson You utter fraud. shuffling dirt ...</td>\n",
       "      <td>anger</td>\n",
       "      <td>anger</td>\n",
       "    </tr>\n",
       "    <tr>\n",
       "      <th>507</th>\n",
       "      <td>2354</td>\n",
       "      <td>@BorisJohnson Keep it up Boris , i love seeing...</td>\n",
       "      <td>anger</td>\n",
       "      <td>not_anger</td>\n",
       "    </tr>\n",
       "    <tr>\n",
       "      <th>508</th>\n",
       "      <td>2478</td>\n",
       "      <td>@jeremycorbyn Have a word then. https://t.co/v...</td>\n",
       "      <td>not_anger</td>\n",
       "      <td>not_anger</td>\n",
       "    </tr>\n",
       "    <tr>\n",
       "      <th>509</th>\n",
       "      <td>5155</td>\n",
       "      <td>@MichelleDewbs @HullCity @YorkshireTea We are ...</td>\n",
       "      <td>not_anger</td>\n",
       "      <td>anger</td>\n",
       "    </tr>\n",
       "  </tbody>\n",
       "</table>\n",
       "<p>510 rows × 4 columns</p>\n",
       "</div>\n",
       "      <button class=\"colab-df-convert\" onclick=\"convertToInteractive('df-c8f9a503-3b07-4b6d-b74a-d834f3cd2ab9')\"\n",
       "              title=\"Convert this dataframe to an interactive table.\"\n",
       "              style=\"display:none;\">\n",
       "        \n",
       "  <svg xmlns=\"http://www.w3.org/2000/svg\" height=\"24px\"viewBox=\"0 0 24 24\"\n",
       "       width=\"24px\">\n",
       "    <path d=\"M0 0h24v24H0V0z\" fill=\"none\"/>\n",
       "    <path d=\"M18.56 5.44l.94 2.06.94-2.06 2.06-.94-2.06-.94-.94-2.06-.94 2.06-2.06.94zm-11 1L8.5 8.5l.94-2.06 2.06-.94-2.06-.94L8.5 2.5l-.94 2.06-2.06.94zm10 10l.94 2.06.94-2.06 2.06-.94-2.06-.94-.94-2.06-.94 2.06-2.06.94z\"/><path d=\"M17.41 7.96l-1.37-1.37c-.4-.4-.92-.59-1.43-.59-.52 0-1.04.2-1.43.59L10.3 9.45l-7.72 7.72c-.78.78-.78 2.05 0 2.83L4 21.41c.39.39.9.59 1.41.59.51 0 1.02-.2 1.41-.59l7.78-7.78 2.81-2.81c.8-.78.8-2.07 0-2.86zM5.41 20L4 18.59l7.72-7.72 1.47 1.35L5.41 20z\"/>\n",
       "  </svg>\n",
       "      </button>\n",
       "      \n",
       "  <style>\n",
       "    .colab-df-container {\n",
       "      display:flex;\n",
       "      flex-wrap:wrap;\n",
       "      gap: 12px;\n",
       "    }\n",
       "\n",
       "    .colab-df-convert {\n",
       "      background-color: #E8F0FE;\n",
       "      border: none;\n",
       "      border-radius: 50%;\n",
       "      cursor: pointer;\n",
       "      display: none;\n",
       "      fill: #1967D2;\n",
       "      height: 32px;\n",
       "      padding: 0 0 0 0;\n",
       "      width: 32px;\n",
       "    }\n",
       "\n",
       "    .colab-df-convert:hover {\n",
       "      background-color: #E2EBFA;\n",
       "      box-shadow: 0px 1px 2px rgba(60, 64, 67, 0.3), 0px 1px 3px 1px rgba(60, 64, 67, 0.15);\n",
       "      fill: #174EA6;\n",
       "    }\n",
       "\n",
       "    [theme=dark] .colab-df-convert {\n",
       "      background-color: #3B4455;\n",
       "      fill: #D2E3FC;\n",
       "    }\n",
       "\n",
       "    [theme=dark] .colab-df-convert:hover {\n",
       "      background-color: #434B5C;\n",
       "      box-shadow: 0px 1px 3px 1px rgba(0, 0, 0, 0.15);\n",
       "      filter: drop-shadow(0px 1px 2px rgba(0, 0, 0, 0.3));\n",
       "      fill: #FFFFFF;\n",
       "    }\n",
       "  </style>\n",
       "\n",
       "      <script>\n",
       "        const buttonEl =\n",
       "          document.querySelector('#df-c8f9a503-3b07-4b6d-b74a-d834f3cd2ab9 button.colab-df-convert');\n",
       "        buttonEl.style.display =\n",
       "          google.colab.kernel.accessAllowed ? 'block' : 'none';\n",
       "\n",
       "        async function convertToInteractive(key) {\n",
       "          const element = document.querySelector('#df-c8f9a503-3b07-4b6d-b74a-d834f3cd2ab9');\n",
       "          const dataTable =\n",
       "            await google.colab.kernel.invokeFunction('convertToInteractive',\n",
       "                                                     [key], {});\n",
       "          if (!dataTable) return;\n",
       "\n",
       "          const docLinkHtml = 'Like what you see? Visit the ' +\n",
       "            '<a target=\"_blank\" href=https://colab.research.google.com/notebooks/data_table.ipynb>data table notebook</a>'\n",
       "            + ' to learn more about interactive tables.';\n",
       "          element.innerHTML = '';\n",
       "          dataTable['output_type'] = 'display_data';\n",
       "          await google.colab.output.renderOutput(dataTable, element);\n",
       "          const docLink = document.createElement('div');\n",
       "          docLink.innerHTML = docLinkHtml;\n",
       "          element.appendChild(docLink);\n",
       "        }\n",
       "      </script>\n",
       "    </div>\n",
       "  </div>\n",
       "  "
      ],
      "text/plain": [
       "     Unnamed: 0                                               text      label  \\\n",
       "0          5527  @Azhar4Pendle @NinaWarhurst Well done you have...  not_anger   \n",
       "1          6839  @BorisJohnson @JamesCleverly The only thing yo...      anger   \n",
       "2          6550    @DavidGauke Don't think your convincing anyone.  not_anger   \n",
       "3          5036  @BorisJohnson Say what you want, Al.. you are ...      anger   \n",
       "4          4098  @jeremycorbyn They won't be voting for you dip...      anger   \n",
       "..          ...                                                ...        ...   \n",
       "505        4438  @DavidLammy HeвЂ™d better get back to his vaul...      anger   \n",
       "506        6257  @BorisJohnson You utter fraud. shuffling dirt ...      anger   \n",
       "507        2354  @BorisJohnson Keep it up Boris , i love seeing...      anger   \n",
       "508        2478  @jeremycorbyn Have a word then. https://t.co/v...  not_anger   \n",
       "509        5155  @MichelleDewbs @HullCity @YorkshireTea We are ...  not_anger   \n",
       "\n",
       "          eval  \n",
       "0    not_anger  \n",
       "1        anger  \n",
       "2    not_anger  \n",
       "3        anger  \n",
       "4        anger  \n",
       "..         ...  \n",
       "505  not_anger  \n",
       "506      anger  \n",
       "507  not_anger  \n",
       "508  not_anger  \n",
       "509      anger  \n",
       "\n",
       "[510 rows x 4 columns]"
      ]
     },
     "execution_count": 27,
     "metadata": {},
     "output_type": "execute_result"
    }
   ],
   "source": [
    "test_df"
   ]
  },
  {
   "cell_type": "markdown",
   "metadata": {},
   "source": [
    "A formal evaluation showing very satisfactory results given the nature of the task"
   ]
  },
  {
   "cell_type": "code",
   "execution_count": null,
   "metadata": {
    "id": "pjdj52QYNnqx"
   },
   "outputs": [],
   "source": [
    "from sklearn.metrics import classification_report, accuracy_score"
   ]
  },
  {
   "cell_type": "code",
   "execution_count": null,
   "metadata": {
    "colab": {
     "base_uri": "https://localhost:8080/"
    },
    "id": "UDzJjAjBNlCt",
    "outputId": "46337287-98f5-4bce-a31b-7eec5874d91b"
   },
   "outputs": [
    {
     "name": "stdout",
     "output_type": "stream",
     "text": [
      "              precision    recall  f1-score   support\n",
      "\n",
      "       anger       0.74      0.83      0.79       187\n",
      "   not_anger       0.90      0.83      0.86       323\n",
      "\n",
      "    accuracy                           0.83       510\n",
      "   macro avg       0.82      0.83      0.82       510\n",
      "weighted avg       0.84      0.83      0.84       510\n",
      "\n"
     ]
    }
   ],
   "source": [
    "print(classification_report(test_df['label'], test_df['eval']))"
   ]
  }
 ],
 "metadata": {
  "accelerator": "TPU",
  "colab": {
   "collapsed_sections": [],
   "name": "T5_FINAL_ANGER_UK2019.ipynb",
   "provenance": []
  },
  "kernelspec": {
   "display_name": "Python 3",
   "language": "python",
   "name": "python3"
  },
  "language_info": {
   "codemirror_mode": {
    "name": "ipython",
    "version": 3
   },
   "file_extension": ".py",
   "mimetype": "text/x-python",
   "name": "python",
   "nbconvert_exporter": "python",
   "pygments_lexer": "ipython3",
   "version": "3.8.5"
  },
  "widgets": {
   "application/vnd.jupyter.widget-state+json": {
    "006ae817c1d4441383f0fd6b201101a1": {
     "model_module": "@jupyter-widgets/controls",
     "model_module_version": "1.5.0",
     "model_name": "DescriptionStyleModel",
     "state": {
      "_model_module": "@jupyter-widgets/controls",
      "_model_module_version": "1.5.0",
      "_model_name": "DescriptionStyleModel",
      "_view_count": null,
      "_view_module": "@jupyter-widgets/base",
      "_view_module_version": "1.2.0",
      "_view_name": "StyleView",
      "description_width": ""
     }
    },
    "03f136f57c714134bdcb64a0f1f06297": {
     "model_module": "@jupyter-widgets/controls",
     "model_module_version": "1.5.0",
     "model_name": "HTMLModel",
     "state": {
      "_dom_classes": [],
      "_model_module": "@jupyter-widgets/controls",
      "_model_module_version": "1.5.0",
      "_model_name": "HTMLModel",
      "_view_count": null,
      "_view_module": "@jupyter-widgets/controls",
      "_view_module_version": "1.5.0",
      "_view_name": "HTMLView",
      "description": "",
      "description_tooltip": null,
      "layout": "IPY_MODEL_d1e3583f51e542328116b962f395c0f6",
      "placeholder": "​",
      "style": "IPY_MODEL_6acbd2fbad1d43fa8d39431023033f89",
      "value": " 773k/773k [00:00&lt;00:00, 1.61MB/s]"
     }
    },
    "0820ce89d7b440528e76daddfdb00959": {
     "model_module": "@jupyter-widgets/controls",
     "model_module_version": "1.5.0",
     "model_name": "FloatProgressModel",
     "state": {
      "_dom_classes": [],
      "_model_module": "@jupyter-widgets/controls",
      "_model_module_version": "1.5.0",
      "_model_name": "FloatProgressModel",
      "_view_count": null,
      "_view_module": "@jupyter-widgets/controls",
      "_view_module_version": "1.5.0",
      "_view_name": "ProgressView",
      "bar_style": "success",
      "description": "",
      "description_tooltip": null,
      "layout": "IPY_MODEL_608690553f80423ca8bf3cd86770d7ee",
      "max": 1199,
      "min": 0,
      "orientation": "horizontal",
      "style": "IPY_MODEL_c18ab89241464871b5ded11a5ab4c0e2",
      "value": 1199
     }
    },
    "0b45d55a37834e81ba20e283e48d59f7": {
     "model_module": "@jupyter-widgets/base",
     "model_module_version": "1.2.0",
     "model_name": "LayoutModel",
     "state": {
      "_model_module": "@jupyter-widgets/base",
      "_model_module_version": "1.2.0",
      "_model_name": "LayoutModel",
      "_view_count": null,
      "_view_module": "@jupyter-widgets/base",
      "_view_module_version": "1.2.0",
      "_view_name": "LayoutView",
      "align_content": null,
      "align_items": null,
      "align_self": null,
      "border": null,
      "bottom": null,
      "display": null,
      "flex": null,
      "flex_flow": null,
      "grid_area": null,
      "grid_auto_columns": null,
      "grid_auto_flow": null,
      "grid_auto_rows": null,
      "grid_column": null,
      "grid_gap": null,
      "grid_row": null,
      "grid_template_areas": null,
      "grid_template_columns": null,
      "grid_template_rows": null,
      "height": null,
      "justify_content": null,
      "justify_items": null,
      "left": null,
      "margin": null,
      "max_height": null,
      "max_width": null,
      "min_height": null,
      "min_width": null,
      "object_fit": null,
      "object_position": null,
      "order": null,
      "overflow": null,
      "overflow_x": null,
      "overflow_y": null,
      "padding": null,
      "right": null,
      "top": null,
      "visibility": null,
      "width": null
     }
    },
    "1282b60f02334c44933222131e79740a": {
     "model_module": "@jupyter-widgets/controls",
     "model_module_version": "1.5.0",
     "model_name": "HTMLModel",
     "state": {
      "_dom_classes": [],
      "_model_module": "@jupyter-widgets/controls",
      "_model_module_version": "1.5.0",
      "_model_name": "HTMLModel",
      "_view_count": null,
      "_view_module": "@jupyter-widgets/controls",
      "_view_module_version": "1.5.0",
      "_view_name": "HTMLView",
      "description": "",
      "description_tooltip": null,
      "layout": "IPY_MODEL_cb31b1ec13c14740a73913b3c077b6f5",
      "placeholder": "​",
      "style": "IPY_MODEL_fac06cbb759942729aba8ed40ccf86e7",
      "value": "Downloading: 100%"
     }
    },
    "1533d0c30927467484dac0f3229e022d": {
     "model_module": "@jupyter-widgets/controls",
     "model_module_version": "1.5.0",
     "model_name": "FloatProgressModel",
     "state": {
      "_dom_classes": [],
      "_model_module": "@jupyter-widgets/controls",
      "_model_module_version": "1.5.0",
      "_model_name": "FloatProgressModel",
      "_view_count": null,
      "_view_module": "@jupyter-widgets/controls",
      "_view_module_version": "1.5.0",
      "_view_name": "ProgressView",
      "bar_style": "success",
      "description": "",
      "description_tooltip": null,
      "layout": "IPY_MODEL_f93fc6918fe54ea18598d4e9318477be",
      "max": 1199,
      "min": 0,
      "orientation": "horizontal",
      "style": "IPY_MODEL_fe168bee94e54c1f959d41c637ffddc3",
      "value": 1199
     }
    },
    "15494cc13d5f4a2891a0ae1461e984c7": {
     "model_module": "@jupyter-widgets/controls",
     "model_module_version": "1.5.0",
     "model_name": "ProgressStyleModel",
     "state": {
      "_model_module": "@jupyter-widgets/controls",
      "_model_module_version": "1.5.0",
      "_model_name": "ProgressStyleModel",
      "_view_count": null,
      "_view_module": "@jupyter-widgets/base",
      "_view_module_version": "1.2.0",
      "_view_name": "StyleView",
      "bar_color": null,
      "description_width": ""
     }
    },
    "1931954c7d92475585b017e7f71fbb91": {
     "model_module": "@jupyter-widgets/controls",
     "model_module_version": "1.5.0",
     "model_name": "HTMLModel",
     "state": {
      "_dom_classes": [],
      "_model_module": "@jupyter-widgets/controls",
      "_model_module_version": "1.5.0",
      "_model_name": "HTMLModel",
      "_view_count": null,
      "_view_module": "@jupyter-widgets/controls",
      "_view_module_version": "1.5.0",
      "_view_name": "HTMLView",
      "description": "",
      "description_tooltip": null,
      "layout": "IPY_MODEL_fd1a755feb2a4b449851eef5ebcb46e8",
      "placeholder": "​",
      "style": "IPY_MODEL_4517920f3d2e4b7f8e07101fa57f1bf1",
      "value": "Downloading: 100%"
     }
    },
    "1caae6df09314c358ba6718e47b6abb3": {
     "model_module": "@jupyter-widgets/base",
     "model_module_version": "1.2.0",
     "model_name": "LayoutModel",
     "state": {
      "_model_module": "@jupyter-widgets/base",
      "_model_module_version": "1.2.0",
      "_model_name": "LayoutModel",
      "_view_count": null,
      "_view_module": "@jupyter-widgets/base",
      "_view_module_version": "1.2.0",
      "_view_name": "LayoutView",
      "align_content": null,
      "align_items": null,
      "align_self": null,
      "border": null,
      "bottom": null,
      "display": null,
      "flex": null,
      "flex_flow": null,
      "grid_area": null,
      "grid_auto_columns": null,
      "grid_auto_flow": null,
      "grid_auto_rows": null,
      "grid_column": null,
      "grid_gap": null,
      "grid_row": null,
      "grid_template_areas": null,
      "grid_template_columns": null,
      "grid_template_rows": null,
      "height": null,
      "justify_content": null,
      "justify_items": null,
      "left": null,
      "margin": null,
      "max_height": null,
      "max_width": null,
      "min_height": null,
      "min_width": null,
      "object_fit": null,
      "object_position": null,
      "order": null,
      "overflow": null,
      "overflow_x": null,
      "overflow_y": null,
      "padding": null,
      "right": null,
      "top": null,
      "visibility": null,
      "width": null
     }
    },
    "231d5e02ed55466d927adbc3d70ea6b8": {
     "model_module": "@jupyter-widgets/controls",
     "model_module_version": "1.5.0",
     "model_name": "DescriptionStyleModel",
     "state": {
      "_model_module": "@jupyter-widgets/controls",
      "_model_module_version": "1.5.0",
      "_model_name": "DescriptionStyleModel",
      "_view_count": null,
      "_view_module": "@jupyter-widgets/base",
      "_view_module_version": "1.2.0",
      "_view_name": "StyleView",
      "description_width": ""
     }
    },
    "239fa24dbbb0463f8a0368660ddf6eb5": {
     "model_module": "@jupyter-widgets/controls",
     "model_module_version": "1.5.0",
     "model_name": "FloatProgressModel",
     "state": {
      "_dom_classes": [],
      "_model_module": "@jupyter-widgets/controls",
      "_model_module_version": "1.5.0",
      "_model_name": "FloatProgressModel",
      "_view_count": null,
      "_view_module": "@jupyter-widgets/controls",
      "_view_module_version": "1.5.0",
      "_view_name": "ProgressView",
      "bar_style": "success",
      "description": "",
      "description_tooltip": null,
      "layout": "IPY_MODEL_9b0dd3fe65544531abe26e9d4b81541d",
      "max": 791656,
      "min": 0,
      "orientation": "horizontal",
      "style": "IPY_MODEL_7008b750eca9406cbd073f6c990b0186",
      "value": 791656
     }
    },
    "448736ff61ce473983c1839832c17b1a": {
     "model_module": "@jupyter-widgets/controls",
     "model_module_version": "1.5.0",
     "model_name": "HTMLModel",
     "state": {
      "_dom_classes": [],
      "_model_module": "@jupyter-widgets/controls",
      "_model_module_version": "1.5.0",
      "_model_name": "HTMLModel",
      "_view_count": null,
      "_view_module": "@jupyter-widgets/controls",
      "_view_module_version": "1.5.0",
      "_view_name": "HTMLView",
      "description": "",
      "description_tooltip": null,
      "layout": "IPY_MODEL_bf3b69c402e74421a8e9278e83bc7afa",
      "placeholder": "​",
      "style": "IPY_MODEL_899d78ad26cd4c3fbae14d7c18de969b",
      "value": "Downloading: 100%"
     }
    },
    "4517920f3d2e4b7f8e07101fa57f1bf1": {
     "model_module": "@jupyter-widgets/controls",
     "model_module_version": "1.5.0",
     "model_name": "DescriptionStyleModel",
     "state": {
      "_model_module": "@jupyter-widgets/controls",
      "_model_module_version": "1.5.0",
      "_model_name": "DescriptionStyleModel",
      "_view_count": null,
      "_view_module": "@jupyter-widgets/base",
      "_view_module_version": "1.2.0",
      "_view_name": "StyleView",
      "description_width": ""
     }
    },
    "485f539fab3d4248954b6ef87327ea00": {
     "model_module": "@jupyter-widgets/base",
     "model_module_version": "1.2.0",
     "model_name": "LayoutModel",
     "state": {
      "_model_module": "@jupyter-widgets/base",
      "_model_module_version": "1.2.0",
      "_model_name": "LayoutModel",
      "_view_count": null,
      "_view_module": "@jupyter-widgets/base",
      "_view_module_version": "1.2.0",
      "_view_name": "LayoutView",
      "align_content": null,
      "align_items": null,
      "align_self": null,
      "border": null,
      "bottom": null,
      "display": null,
      "flex": null,
      "flex_flow": null,
      "grid_area": null,
      "grid_auto_columns": null,
      "grid_auto_flow": null,
      "grid_auto_rows": null,
      "grid_column": null,
      "grid_gap": null,
      "grid_row": null,
      "grid_template_areas": null,
      "grid_template_columns": null,
      "grid_template_rows": null,
      "height": null,
      "justify_content": null,
      "justify_items": null,
      "left": null,
      "margin": null,
      "max_height": null,
      "max_width": null,
      "min_height": null,
      "min_width": null,
      "object_fit": null,
      "object_position": null,
      "order": null,
      "overflow": null,
      "overflow_x": null,
      "overflow_y": null,
      "padding": null,
      "right": null,
      "top": null,
      "visibility": null,
      "width": null
     }
    },
    "4ce91bfb3f6e4550ac507e28f9f49923": {
     "model_module": "@jupyter-widgets/controls",
     "model_module_version": "1.5.0",
     "model_name": "HBoxModel",
     "state": {
      "_dom_classes": [],
      "_model_module": "@jupyter-widgets/controls",
      "_model_module_version": "1.5.0",
      "_model_name": "HBoxModel",
      "_view_count": null,
      "_view_module": "@jupyter-widgets/controls",
      "_view_module_version": "1.5.0",
      "_view_name": "HBoxView",
      "box_style": "",
      "children": [
       "IPY_MODEL_1282b60f02334c44933222131e79740a",
       "IPY_MODEL_edf1edfeeb8949dab685c8e40b5d277b",
       "IPY_MODEL_69773f8b7656432a996e8cca009cd238"
      ],
      "layout": "IPY_MODEL_b04134e12cf84b3fae698d68d28c4624"
     }
    },
    "51bc4436998b4b809a6b144f8bb0a0f5": {
     "model_module": "@jupyter-widgets/controls",
     "model_module_version": "1.5.0",
     "model_name": "DescriptionStyleModel",
     "state": {
      "_model_module": "@jupyter-widgets/controls",
      "_model_module_version": "1.5.0",
      "_model_name": "DescriptionStyleModel",
      "_view_count": null,
      "_view_module": "@jupyter-widgets/base",
      "_view_module_version": "1.2.0",
      "_view_name": "StyleView",
      "description_width": ""
     }
    },
    "5b12825d414a4e7badf7819b9c6c1abe": {
     "model_module": "@jupyter-widgets/controls",
     "model_module_version": "1.5.0",
     "model_name": "DescriptionStyleModel",
     "state": {
      "_model_module": "@jupyter-widgets/controls",
      "_model_module_version": "1.5.0",
      "_model_name": "DescriptionStyleModel",
      "_view_count": null,
      "_view_module": "@jupyter-widgets/base",
      "_view_module_version": "1.2.0",
      "_view_name": "StyleView",
      "description_width": ""
     }
    },
    "5b95d76ec13c4f5491b1a19e17b4e058": {
     "model_module": "@jupyter-widgets/controls",
     "model_module_version": "1.5.0",
     "model_name": "HBoxModel",
     "state": {
      "_dom_classes": [],
      "_model_module": "@jupyter-widgets/controls",
      "_model_module_version": "1.5.0",
      "_model_name": "HBoxModel",
      "_view_count": null,
      "_view_module": "@jupyter-widgets/controls",
      "_view_module_version": "1.5.0",
      "_view_name": "HBoxView",
      "box_style": "",
      "children": [
       "IPY_MODEL_8a252ca47d394475828c6da837b3d9f8",
       "IPY_MODEL_239fa24dbbb0463f8a0368660ddf6eb5",
       "IPY_MODEL_03f136f57c714134bdcb64a0f1f06297"
      ],
      "layout": "IPY_MODEL_81e22b405af5432580250925d9dbec5a"
     }
    },
    "5e954990c2ce485e994c37fb757228d2": {
     "model_module": "@jupyter-widgets/base",
     "model_module_version": "1.2.0",
     "model_name": "LayoutModel",
     "state": {
      "_model_module": "@jupyter-widgets/base",
      "_model_module_version": "1.2.0",
      "_model_name": "LayoutModel",
      "_view_count": null,
      "_view_module": "@jupyter-widgets/base",
      "_view_module_version": "1.2.0",
      "_view_name": "LayoutView",
      "align_content": null,
      "align_items": null,
      "align_self": null,
      "border": null,
      "bottom": null,
      "display": null,
      "flex": null,
      "flex_flow": null,
      "grid_area": null,
      "grid_auto_columns": null,
      "grid_auto_flow": null,
      "grid_auto_rows": null,
      "grid_column": null,
      "grid_gap": null,
      "grid_row": null,
      "grid_template_areas": null,
      "grid_template_columns": null,
      "grid_template_rows": null,
      "height": null,
      "justify_content": null,
      "justify_items": null,
      "left": null,
      "margin": null,
      "max_height": null,
      "max_width": null,
      "min_height": null,
      "min_width": null,
      "object_fit": null,
      "object_position": null,
      "order": null,
      "overflow": null,
      "overflow_x": null,
      "overflow_y": null,
      "padding": null,
      "right": null,
      "top": null,
      "visibility": null,
      "width": null
     }
    },
    "6030612951014a329d20e11f24655c62": {
     "model_module": "@jupyter-widgets/base",
     "model_module_version": "1.2.0",
     "model_name": "LayoutModel",
     "state": {
      "_model_module": "@jupyter-widgets/base",
      "_model_module_version": "1.2.0",
      "_model_name": "LayoutModel",
      "_view_count": null,
      "_view_module": "@jupyter-widgets/base",
      "_view_module_version": "1.2.0",
      "_view_name": "LayoutView",
      "align_content": null,
      "align_items": null,
      "align_self": null,
      "border": null,
      "bottom": null,
      "display": null,
      "flex": null,
      "flex_flow": null,
      "grid_area": null,
      "grid_auto_columns": null,
      "grid_auto_flow": null,
      "grid_auto_rows": null,
      "grid_column": null,
      "grid_gap": null,
      "grid_row": null,
      "grid_template_areas": null,
      "grid_template_columns": null,
      "grid_template_rows": null,
      "height": null,
      "justify_content": null,
      "justify_items": null,
      "left": null,
      "margin": null,
      "max_height": null,
      "max_width": null,
      "min_height": null,
      "min_width": null,
      "object_fit": null,
      "object_position": null,
      "order": null,
      "overflow": null,
      "overflow_x": null,
      "overflow_y": null,
      "padding": null,
      "right": null,
      "top": null,
      "visibility": null,
      "width": null
     }
    },
    "608690553f80423ca8bf3cd86770d7ee": {
     "model_module": "@jupyter-widgets/base",
     "model_module_version": "1.2.0",
     "model_name": "LayoutModel",
     "state": {
      "_model_module": "@jupyter-widgets/base",
      "_model_module_version": "1.2.0",
      "_model_name": "LayoutModel",
      "_view_count": null,
      "_view_module": "@jupyter-widgets/base",
      "_view_module_version": "1.2.0",
      "_view_name": "LayoutView",
      "align_content": null,
      "align_items": null,
      "align_self": null,
      "border": null,
      "bottom": null,
      "display": null,
      "flex": null,
      "flex_flow": null,
      "grid_area": null,
      "grid_auto_columns": null,
      "grid_auto_flow": null,
      "grid_auto_rows": null,
      "grid_column": null,
      "grid_gap": null,
      "grid_row": null,
      "grid_template_areas": null,
      "grid_template_columns": null,
      "grid_template_rows": null,
      "height": null,
      "justify_content": null,
      "justify_items": null,
      "left": null,
      "margin": null,
      "max_height": null,
      "max_width": null,
      "min_height": null,
      "min_width": null,
      "object_fit": null,
      "object_position": null,
      "order": null,
      "overflow": null,
      "overflow_x": null,
      "overflow_y": null,
      "padding": null,
      "right": null,
      "top": null,
      "visibility": null,
      "width": null
     }
    },
    "69773f8b7656432a996e8cca009cd238": {
     "model_module": "@jupyter-widgets/controls",
     "model_module_version": "1.5.0",
     "model_name": "HTMLModel",
     "state": {
      "_dom_classes": [],
      "_model_module": "@jupyter-widgets/controls",
      "_model_module_version": "1.5.0",
      "_model_name": "HTMLModel",
      "_view_count": null,
      "_view_module": "@jupyter-widgets/controls",
      "_view_module_version": "1.5.0",
      "_view_name": "HTMLView",
      "description": "",
      "description_tooltip": null,
      "layout": "IPY_MODEL_5e954990c2ce485e994c37fb757228d2",
      "placeholder": "​",
      "style": "IPY_MODEL_006ae817c1d4441383f0fd6b201101a1",
      "value": " 851M/851M [00:32&lt;00:00, 39.9MB/s]"
     }
    },
    "6acbd2fbad1d43fa8d39431023033f89": {
     "model_module": "@jupyter-widgets/controls",
     "model_module_version": "1.5.0",
     "model_name": "DescriptionStyleModel",
     "state": {
      "_model_module": "@jupyter-widgets/controls",
      "_model_module_version": "1.5.0",
      "_model_name": "DescriptionStyleModel",
      "_view_count": null,
      "_view_module": "@jupyter-widgets/base",
      "_view_module_version": "1.2.0",
      "_view_name": "StyleView",
      "description_width": ""
     }
    },
    "6c0af0d01e4047f086eb9b1d33e5caa2": {
     "model_module": "@jupyter-widgets/base",
     "model_module_version": "1.2.0",
     "model_name": "LayoutModel",
     "state": {
      "_model_module": "@jupyter-widgets/base",
      "_model_module_version": "1.2.0",
      "_model_name": "LayoutModel",
      "_view_count": null,
      "_view_module": "@jupyter-widgets/base",
      "_view_module_version": "1.2.0",
      "_view_name": "LayoutView",
      "align_content": null,
      "align_items": null,
      "align_self": null,
      "border": null,
      "bottom": null,
      "display": null,
      "flex": null,
      "flex_flow": null,
      "grid_area": null,
      "grid_auto_columns": null,
      "grid_auto_flow": null,
      "grid_auto_rows": null,
      "grid_column": null,
      "grid_gap": null,
      "grid_row": null,
      "grid_template_areas": null,
      "grid_template_columns": null,
      "grid_template_rows": null,
      "height": null,
      "justify_content": null,
      "justify_items": null,
      "left": null,
      "margin": null,
      "max_height": null,
      "max_width": null,
      "min_height": null,
      "min_width": null,
      "object_fit": null,
      "object_position": null,
      "order": null,
      "overflow": null,
      "overflow_x": null,
      "overflow_y": null,
      "padding": null,
      "right": null,
      "top": null,
      "visibility": null,
      "width": null
     }
    },
    "7008b750eca9406cbd073f6c990b0186": {
     "model_module": "@jupyter-widgets/controls",
     "model_module_version": "1.5.0",
     "model_name": "ProgressStyleModel",
     "state": {
      "_model_module": "@jupyter-widgets/controls",
      "_model_module_version": "1.5.0",
      "_model_name": "ProgressStyleModel",
      "_view_count": null,
      "_view_module": "@jupyter-widgets/base",
      "_view_module_version": "1.2.0",
      "_view_name": "StyleView",
      "bar_color": null,
      "description_width": ""
     }
    },
    "77972cdcaf094842ad52e6794ced4974": {
     "model_module": "@jupyter-widgets/controls",
     "model_module_version": "1.5.0",
     "model_name": "HTMLModel",
     "state": {
      "_dom_classes": [],
      "_model_module": "@jupyter-widgets/controls",
      "_model_module_version": "1.5.0",
      "_model_name": "HTMLModel",
      "_view_count": null,
      "_view_module": "@jupyter-widgets/controls",
      "_view_module_version": "1.5.0",
      "_view_name": "HTMLView",
      "description": "",
      "description_tooltip": null,
      "layout": "IPY_MODEL_6030612951014a329d20e11f24655c62",
      "placeholder": "​",
      "style": "IPY_MODEL_b24447c85d1f4171b244b49140b9726a",
      "value": "Downloading: 100%"
     }
    },
    "81e22b405af5432580250925d9dbec5a": {
     "model_module": "@jupyter-widgets/base",
     "model_module_version": "1.2.0",
     "model_name": "LayoutModel",
     "state": {
      "_model_module": "@jupyter-widgets/base",
      "_model_module_version": "1.2.0",
      "_model_name": "LayoutModel",
      "_view_count": null,
      "_view_module": "@jupyter-widgets/base",
      "_view_module_version": "1.2.0",
      "_view_name": "LayoutView",
      "align_content": null,
      "align_items": null,
      "align_self": null,
      "border": null,
      "bottom": null,
      "display": null,
      "flex": null,
      "flex_flow": null,
      "grid_area": null,
      "grid_auto_columns": null,
      "grid_auto_flow": null,
      "grid_auto_rows": null,
      "grid_column": null,
      "grid_gap": null,
      "grid_row": null,
      "grid_template_areas": null,
      "grid_template_columns": null,
      "grid_template_rows": null,
      "height": null,
      "justify_content": null,
      "justify_items": null,
      "left": null,
      "margin": null,
      "max_height": null,
      "max_width": null,
      "min_height": null,
      "min_width": null,
      "object_fit": null,
      "object_position": null,
      "order": null,
      "overflow": null,
      "overflow_x": null,
      "overflow_y": null,
      "padding": null,
      "right": null,
      "top": null,
      "visibility": null,
      "width": null
     }
    },
    "899d78ad26cd4c3fbae14d7c18de969b": {
     "model_module": "@jupyter-widgets/controls",
     "model_module_version": "1.5.0",
     "model_name": "DescriptionStyleModel",
     "state": {
      "_model_module": "@jupyter-widgets/controls",
      "_model_module_version": "1.5.0",
      "_model_name": "DescriptionStyleModel",
      "_view_count": null,
      "_view_module": "@jupyter-widgets/base",
      "_view_module_version": "1.2.0",
      "_view_name": "StyleView",
      "description_width": ""
     }
    },
    "89cbb9458f5d43159dba4f150a7f57ee": {
     "model_module": "@jupyter-widgets/controls",
     "model_module_version": "1.5.0",
     "model_name": "HTMLModel",
     "state": {
      "_dom_classes": [],
      "_model_module": "@jupyter-widgets/controls",
      "_model_module_version": "1.5.0",
      "_model_name": "HTMLModel",
      "_view_count": null,
      "_view_module": "@jupyter-widgets/controls",
      "_view_module_version": "1.5.0",
      "_view_name": "HTMLView",
      "description": "",
      "description_tooltip": null,
      "layout": "IPY_MODEL_fa99bfc4521948aaafe9f42c97244dab",
      "placeholder": "​",
      "style": "IPY_MODEL_9f4c51577aca478182991b816c816a14",
      "value": " 773k/773k [00:00&lt;00:00, 3.78MB/s]"
     }
    },
    "8a252ca47d394475828c6da837b3d9f8": {
     "model_module": "@jupyter-widgets/controls",
     "model_module_version": "1.5.0",
     "model_name": "HTMLModel",
     "state": {
      "_dom_classes": [],
      "_model_module": "@jupyter-widgets/controls",
      "_model_module_version": "1.5.0",
      "_model_name": "HTMLModel",
      "_view_count": null,
      "_view_module": "@jupyter-widgets/controls",
      "_view_module_version": "1.5.0",
      "_view_name": "HTMLView",
      "description": "",
      "description_tooltip": null,
      "layout": "IPY_MODEL_1caae6df09314c358ba6718e47b6abb3",
      "placeholder": "​",
      "style": "IPY_MODEL_5b12825d414a4e7badf7819b9c6c1abe",
      "value": "Downloading: 100%"
     }
    },
    "935eaaf2c3b747dc966c793e57beced2": {
     "model_module": "@jupyter-widgets/controls",
     "model_module_version": "1.5.0",
     "model_name": "HBoxModel",
     "state": {
      "_dom_classes": [],
      "_model_module": "@jupyter-widgets/controls",
      "_model_module_version": "1.5.0",
      "_model_name": "HBoxModel",
      "_view_count": null,
      "_view_module": "@jupyter-widgets/controls",
      "_view_module_version": "1.5.0",
      "_view_name": "HBoxView",
      "box_style": "",
      "children": [
       "IPY_MODEL_1931954c7d92475585b017e7f71fbb91",
       "IPY_MODEL_0820ce89d7b440528e76daddfdb00959",
       "IPY_MODEL_c5e0d7923f2c439a8f81800e3214aab1"
      ],
      "layout": "IPY_MODEL_c8f96d4808cd405f8790c686cd7a1e07"
     }
    },
    "9b0dd3fe65544531abe26e9d4b81541d": {
     "model_module": "@jupyter-widgets/base",
     "model_module_version": "1.2.0",
     "model_name": "LayoutModel",
     "state": {
      "_model_module": "@jupyter-widgets/base",
      "_model_module_version": "1.2.0",
      "_model_name": "LayoutModel",
      "_view_count": null,
      "_view_module": "@jupyter-widgets/base",
      "_view_module_version": "1.2.0",
      "_view_name": "LayoutView",
      "align_content": null,
      "align_items": null,
      "align_self": null,
      "border": null,
      "bottom": null,
      "display": null,
      "flex": null,
      "flex_flow": null,
      "grid_area": null,
      "grid_auto_columns": null,
      "grid_auto_flow": null,
      "grid_auto_rows": null,
      "grid_column": null,
      "grid_gap": null,
      "grid_row": null,
      "grid_template_areas": null,
      "grid_template_columns": null,
      "grid_template_rows": null,
      "height": null,
      "justify_content": null,
      "justify_items": null,
      "left": null,
      "margin": null,
      "max_height": null,
      "max_width": null,
      "min_height": null,
      "min_width": null,
      "object_fit": null,
      "object_position": null,
      "order": null,
      "overflow": null,
      "overflow_x": null,
      "overflow_y": null,
      "padding": null,
      "right": null,
      "top": null,
      "visibility": null,
      "width": null
     }
    },
    "9f4c51577aca478182991b816c816a14": {
     "model_module": "@jupyter-widgets/controls",
     "model_module_version": "1.5.0",
     "model_name": "DescriptionStyleModel",
     "state": {
      "_model_module": "@jupyter-widgets/controls",
      "_model_module_version": "1.5.0",
      "_model_name": "DescriptionStyleModel",
      "_view_count": null,
      "_view_module": "@jupyter-widgets/base",
      "_view_module_version": "1.2.0",
      "_view_name": "StyleView",
      "description_width": ""
     }
    },
    "a13c3e219cd64d8fa17b5e352d90054b": {
     "model_module": "@jupyter-widgets/controls",
     "model_module_version": "1.5.0",
     "model_name": "HBoxModel",
     "state": {
      "_dom_classes": [],
      "_model_module": "@jupyter-widgets/controls",
      "_model_module_version": "1.5.0",
      "_model_name": "HBoxModel",
      "_view_count": null,
      "_view_module": "@jupyter-widgets/controls",
      "_view_module_version": "1.5.0",
      "_view_name": "HBoxView",
      "box_style": "",
      "children": [
       "IPY_MODEL_448736ff61ce473983c1839832c17b1a",
       "IPY_MODEL_a4f9fbaf1a6e4954b6e81a63888b2be3",
       "IPY_MODEL_89cbb9458f5d43159dba4f150a7f57ee"
      ],
      "layout": "IPY_MODEL_f27b65e525824d62bc3c6edcf1505774"
     }
    },
    "a4f9fbaf1a6e4954b6e81a63888b2be3": {
     "model_module": "@jupyter-widgets/controls",
     "model_module_version": "1.5.0",
     "model_name": "FloatProgressModel",
     "state": {
      "_dom_classes": [],
      "_model_module": "@jupyter-widgets/controls",
      "_model_module_version": "1.5.0",
      "_model_name": "FloatProgressModel",
      "_view_count": null,
      "_view_module": "@jupyter-widgets/controls",
      "_view_module_version": "1.5.0",
      "_view_name": "ProgressView",
      "bar_style": "success",
      "description": "",
      "description_tooltip": null,
      "layout": "IPY_MODEL_485f539fab3d4248954b6ef87327ea00",
      "max": 791656,
      "min": 0,
      "orientation": "horizontal",
      "style": "IPY_MODEL_15494cc13d5f4a2891a0ae1461e984c7",
      "value": 791656
     }
    },
    "ac11056549de4db09aba40d75247e3d0": {
     "model_module": "@jupyter-widgets/controls",
     "model_module_version": "1.5.0",
     "model_name": "ProgressStyleModel",
     "state": {
      "_model_module": "@jupyter-widgets/controls",
      "_model_module_version": "1.5.0",
      "_model_name": "ProgressStyleModel",
      "_view_count": null,
      "_view_module": "@jupyter-widgets/base",
      "_view_module_version": "1.2.0",
      "_view_name": "StyleView",
      "bar_color": null,
      "description_width": ""
     }
    },
    "ac27f63416764ca0887c5df783e47684": {
     "model_module": "@jupyter-widgets/base",
     "model_module_version": "1.2.0",
     "model_name": "LayoutModel",
     "state": {
      "_model_module": "@jupyter-widgets/base",
      "_model_module_version": "1.2.0",
      "_model_name": "LayoutModel",
      "_view_count": null,
      "_view_module": "@jupyter-widgets/base",
      "_view_module_version": "1.2.0",
      "_view_name": "LayoutView",
      "align_content": null,
      "align_items": null,
      "align_self": null,
      "border": null,
      "bottom": null,
      "display": null,
      "flex": null,
      "flex_flow": null,
      "grid_area": null,
      "grid_auto_columns": null,
      "grid_auto_flow": null,
      "grid_auto_rows": null,
      "grid_column": null,
      "grid_gap": null,
      "grid_row": null,
      "grid_template_areas": null,
      "grid_template_columns": null,
      "grid_template_rows": null,
      "height": null,
      "justify_content": null,
      "justify_items": null,
      "left": null,
      "margin": null,
      "max_height": null,
      "max_width": null,
      "min_height": null,
      "min_width": null,
      "object_fit": null,
      "object_position": null,
      "order": null,
      "overflow": null,
      "overflow_x": null,
      "overflow_y": null,
      "padding": null,
      "right": null,
      "top": null,
      "visibility": null,
      "width": null
     }
    },
    "b04134e12cf84b3fae698d68d28c4624": {
     "model_module": "@jupyter-widgets/base",
     "model_module_version": "1.2.0",
     "model_name": "LayoutModel",
     "state": {
      "_model_module": "@jupyter-widgets/base",
      "_model_module_version": "1.2.0",
      "_model_name": "LayoutModel",
      "_view_count": null,
      "_view_module": "@jupyter-widgets/base",
      "_view_module_version": "1.2.0",
      "_view_name": "LayoutView",
      "align_content": null,
      "align_items": null,
      "align_self": null,
      "border": null,
      "bottom": null,
      "display": null,
      "flex": null,
      "flex_flow": null,
      "grid_area": null,
      "grid_auto_columns": null,
      "grid_auto_flow": null,
      "grid_auto_rows": null,
      "grid_column": null,
      "grid_gap": null,
      "grid_row": null,
      "grid_template_areas": null,
      "grid_template_columns": null,
      "grid_template_rows": null,
      "height": null,
      "justify_content": null,
      "justify_items": null,
      "left": null,
      "margin": null,
      "max_height": null,
      "max_width": null,
      "min_height": null,
      "min_width": null,
      "object_fit": null,
      "object_position": null,
      "order": null,
      "overflow": null,
      "overflow_x": null,
      "overflow_y": null,
      "padding": null,
      "right": null,
      "top": null,
      "visibility": null,
      "width": null
     }
    },
    "b24447c85d1f4171b244b49140b9726a": {
     "model_module": "@jupyter-widgets/controls",
     "model_module_version": "1.5.0",
     "model_name": "DescriptionStyleModel",
     "state": {
      "_model_module": "@jupyter-widgets/controls",
      "_model_module_version": "1.5.0",
      "_model_name": "DescriptionStyleModel",
      "_view_count": null,
      "_view_module": "@jupyter-widgets/base",
      "_view_module_version": "1.2.0",
      "_view_name": "StyleView",
      "description_width": ""
     }
    },
    "bc372f92a8864d7f85870c2753304eee": {
     "model_module": "@jupyter-widgets/base",
     "model_module_version": "1.2.0",
     "model_name": "LayoutModel",
     "state": {
      "_model_module": "@jupyter-widgets/base",
      "_model_module_version": "1.2.0",
      "_model_name": "LayoutModel",
      "_view_count": null,
      "_view_module": "@jupyter-widgets/base",
      "_view_module_version": "1.2.0",
      "_view_name": "LayoutView",
      "align_content": null,
      "align_items": null,
      "align_self": null,
      "border": null,
      "bottom": null,
      "display": null,
      "flex": null,
      "flex_flow": null,
      "grid_area": null,
      "grid_auto_columns": null,
      "grid_auto_flow": null,
      "grid_auto_rows": null,
      "grid_column": null,
      "grid_gap": null,
      "grid_row": null,
      "grid_template_areas": null,
      "grid_template_columns": null,
      "grid_template_rows": null,
      "height": null,
      "justify_content": null,
      "justify_items": null,
      "left": null,
      "margin": null,
      "max_height": null,
      "max_width": null,
      "min_height": null,
      "min_width": null,
      "object_fit": null,
      "object_position": null,
      "order": null,
      "overflow": null,
      "overflow_x": null,
      "overflow_y": null,
      "padding": null,
      "right": null,
      "top": null,
      "visibility": null,
      "width": null
     }
    },
    "bf3b69c402e74421a8e9278e83bc7afa": {
     "model_module": "@jupyter-widgets/base",
     "model_module_version": "1.2.0",
     "model_name": "LayoutModel",
     "state": {
      "_model_module": "@jupyter-widgets/base",
      "_model_module_version": "1.2.0",
      "_model_name": "LayoutModel",
      "_view_count": null,
      "_view_module": "@jupyter-widgets/base",
      "_view_module_version": "1.2.0",
      "_view_name": "LayoutView",
      "align_content": null,
      "align_items": null,
      "align_self": null,
      "border": null,
      "bottom": null,
      "display": null,
      "flex": null,
      "flex_flow": null,
      "grid_area": null,
      "grid_auto_columns": null,
      "grid_auto_flow": null,
      "grid_auto_rows": null,
      "grid_column": null,
      "grid_gap": null,
      "grid_row": null,
      "grid_template_areas": null,
      "grid_template_columns": null,
      "grid_template_rows": null,
      "height": null,
      "justify_content": null,
      "justify_items": null,
      "left": null,
      "margin": null,
      "max_height": null,
      "max_width": null,
      "min_height": null,
      "min_width": null,
      "object_fit": null,
      "object_position": null,
      "order": null,
      "overflow": null,
      "overflow_x": null,
      "overflow_y": null,
      "padding": null,
      "right": null,
      "top": null,
      "visibility": null,
      "width": null
     }
    },
    "c18ab89241464871b5ded11a5ab4c0e2": {
     "model_module": "@jupyter-widgets/controls",
     "model_module_version": "1.5.0",
     "model_name": "ProgressStyleModel",
     "state": {
      "_model_module": "@jupyter-widgets/controls",
      "_model_module_version": "1.5.0",
      "_model_name": "ProgressStyleModel",
      "_view_count": null,
      "_view_module": "@jupyter-widgets/base",
      "_view_module_version": "1.2.0",
      "_view_name": "StyleView",
      "bar_color": null,
      "description_width": ""
     }
    },
    "c5e0d7923f2c439a8f81800e3214aab1": {
     "model_module": "@jupyter-widgets/controls",
     "model_module_version": "1.5.0",
     "model_name": "HTMLModel",
     "state": {
      "_dom_classes": [],
      "_model_module": "@jupyter-widgets/controls",
      "_model_module_version": "1.5.0",
      "_model_name": "HTMLModel",
      "_view_count": null,
      "_view_module": "@jupyter-widgets/controls",
      "_view_module_version": "1.5.0",
      "_view_name": "HTMLView",
      "description": "",
      "description_tooltip": null,
      "layout": "IPY_MODEL_6c0af0d01e4047f086eb9b1d33e5caa2",
      "placeholder": "​",
      "style": "IPY_MODEL_231d5e02ed55466d927adbc3d70ea6b8",
      "value": " 1.17k/1.17k [00:00&lt;00:00, 23.7kB/s]"
     }
    },
    "c8f96d4808cd405f8790c686cd7a1e07": {
     "model_module": "@jupyter-widgets/base",
     "model_module_version": "1.2.0",
     "model_name": "LayoutModel",
     "state": {
      "_model_module": "@jupyter-widgets/base",
      "_model_module_version": "1.2.0",
      "_model_name": "LayoutModel",
      "_view_count": null,
      "_view_module": "@jupyter-widgets/base",
      "_view_module_version": "1.2.0",
      "_view_name": "LayoutView",
      "align_content": null,
      "align_items": null,
      "align_self": null,
      "border": null,
      "bottom": null,
      "display": null,
      "flex": null,
      "flex_flow": null,
      "grid_area": null,
      "grid_auto_columns": null,
      "grid_auto_flow": null,
      "grid_auto_rows": null,
      "grid_column": null,
      "grid_gap": null,
      "grid_row": null,
      "grid_template_areas": null,
      "grid_template_columns": null,
      "grid_template_rows": null,
      "height": null,
      "justify_content": null,
      "justify_items": null,
      "left": null,
      "margin": null,
      "max_height": null,
      "max_width": null,
      "min_height": null,
      "min_width": null,
      "object_fit": null,
      "object_position": null,
      "order": null,
      "overflow": null,
      "overflow_x": null,
      "overflow_y": null,
      "padding": null,
      "right": null,
      "top": null,
      "visibility": null,
      "width": null
     }
    },
    "cb31b1ec13c14740a73913b3c077b6f5": {
     "model_module": "@jupyter-widgets/base",
     "model_module_version": "1.2.0",
     "model_name": "LayoutModel",
     "state": {
      "_model_module": "@jupyter-widgets/base",
      "_model_module_version": "1.2.0",
      "_model_name": "LayoutModel",
      "_view_count": null,
      "_view_module": "@jupyter-widgets/base",
      "_view_module_version": "1.2.0",
      "_view_name": "LayoutView",
      "align_content": null,
      "align_items": null,
      "align_self": null,
      "border": null,
      "bottom": null,
      "display": null,
      "flex": null,
      "flex_flow": null,
      "grid_area": null,
      "grid_auto_columns": null,
      "grid_auto_flow": null,
      "grid_auto_rows": null,
      "grid_column": null,
      "grid_gap": null,
      "grid_row": null,
      "grid_template_areas": null,
      "grid_template_columns": null,
      "grid_template_rows": null,
      "height": null,
      "justify_content": null,
      "justify_items": null,
      "left": null,
      "margin": null,
      "max_height": null,
      "max_width": null,
      "min_height": null,
      "min_width": null,
      "object_fit": null,
      "object_position": null,
      "order": null,
      "overflow": null,
      "overflow_x": null,
      "overflow_y": null,
      "padding": null,
      "right": null,
      "top": null,
      "visibility": null,
      "width": null
     }
    },
    "d1e3583f51e542328116b962f395c0f6": {
     "model_module": "@jupyter-widgets/base",
     "model_module_version": "1.2.0",
     "model_name": "LayoutModel",
     "state": {
      "_model_module": "@jupyter-widgets/base",
      "_model_module_version": "1.2.0",
      "_model_name": "LayoutModel",
      "_view_count": null,
      "_view_module": "@jupyter-widgets/base",
      "_view_module_version": "1.2.0",
      "_view_name": "LayoutView",
      "align_content": null,
      "align_items": null,
      "align_self": null,
      "border": null,
      "bottom": null,
      "display": null,
      "flex": null,
      "flex_flow": null,
      "grid_area": null,
      "grid_auto_columns": null,
      "grid_auto_flow": null,
      "grid_auto_rows": null,
      "grid_column": null,
      "grid_gap": null,
      "grid_row": null,
      "grid_template_areas": null,
      "grid_template_columns": null,
      "grid_template_rows": null,
      "height": null,
      "justify_content": null,
      "justify_items": null,
      "left": null,
      "margin": null,
      "max_height": null,
      "max_width": null,
      "min_height": null,
      "min_width": null,
      "object_fit": null,
      "object_position": null,
      "order": null,
      "overflow": null,
      "overflow_x": null,
      "overflow_y": null,
      "padding": null,
      "right": null,
      "top": null,
      "visibility": null,
      "width": null
     }
    },
    "db2199b6d43849d493d9f0ead9bba7b7": {
     "model_module": "@jupyter-widgets/controls",
     "model_module_version": "1.5.0",
     "model_name": "HTMLModel",
     "state": {
      "_dom_classes": [],
      "_model_module": "@jupyter-widgets/controls",
      "_model_module_version": "1.5.0",
      "_model_name": "HTMLModel",
      "_view_count": null,
      "_view_module": "@jupyter-widgets/controls",
      "_view_module_version": "1.5.0",
      "_view_name": "HTMLView",
      "description": "",
      "description_tooltip": null,
      "layout": "IPY_MODEL_bc372f92a8864d7f85870c2753304eee",
      "placeholder": "​",
      "style": "IPY_MODEL_51bc4436998b4b809a6b144f8bb0a0f5",
      "value": " 1.17k/1.17k [00:00&lt;00:00, 5.32kB/s]"
     }
    },
    "edf1edfeeb8949dab685c8e40b5d277b": {
     "model_module": "@jupyter-widgets/controls",
     "model_module_version": "1.5.0",
     "model_name": "FloatProgressModel",
     "state": {
      "_dom_classes": [],
      "_model_module": "@jupyter-widgets/controls",
      "_model_module_version": "1.5.0",
      "_model_name": "FloatProgressModel",
      "_view_count": null,
      "_view_module": "@jupyter-widgets/controls",
      "_view_module_version": "1.5.0",
      "_view_name": "ProgressView",
      "bar_style": "success",
      "description": "",
      "description_tooltip": null,
      "layout": "IPY_MODEL_ac27f63416764ca0887c5df783e47684",
      "max": 892146080,
      "min": 0,
      "orientation": "horizontal",
      "style": "IPY_MODEL_ac11056549de4db09aba40d75247e3d0",
      "value": 892146080
     }
    },
    "f27b65e525824d62bc3c6edcf1505774": {
     "model_module": "@jupyter-widgets/base",
     "model_module_version": "1.2.0",
     "model_name": "LayoutModel",
     "state": {
      "_model_module": "@jupyter-widgets/base",
      "_model_module_version": "1.2.0",
      "_model_name": "LayoutModel",
      "_view_count": null,
      "_view_module": "@jupyter-widgets/base",
      "_view_module_version": "1.2.0",
      "_view_name": "LayoutView",
      "align_content": null,
      "align_items": null,
      "align_self": null,
      "border": null,
      "bottom": null,
      "display": null,
      "flex": null,
      "flex_flow": null,
      "grid_area": null,
      "grid_auto_columns": null,
      "grid_auto_flow": null,
      "grid_auto_rows": null,
      "grid_column": null,
      "grid_gap": null,
      "grid_row": null,
      "grid_template_areas": null,
      "grid_template_columns": null,
      "grid_template_rows": null,
      "height": null,
      "justify_content": null,
      "justify_items": null,
      "left": null,
      "margin": null,
      "max_height": null,
      "max_width": null,
      "min_height": null,
      "min_width": null,
      "object_fit": null,
      "object_position": null,
      "order": null,
      "overflow": null,
      "overflow_x": null,
      "overflow_y": null,
      "padding": null,
      "right": null,
      "top": null,
      "visibility": null,
      "width": null
     }
    },
    "f93fc6918fe54ea18598d4e9318477be": {
     "model_module": "@jupyter-widgets/base",
     "model_module_version": "1.2.0",
     "model_name": "LayoutModel",
     "state": {
      "_model_module": "@jupyter-widgets/base",
      "_model_module_version": "1.2.0",
      "_model_name": "LayoutModel",
      "_view_count": null,
      "_view_module": "@jupyter-widgets/base",
      "_view_module_version": "1.2.0",
      "_view_name": "LayoutView",
      "align_content": null,
      "align_items": null,
      "align_self": null,
      "border": null,
      "bottom": null,
      "display": null,
      "flex": null,
      "flex_flow": null,
      "grid_area": null,
      "grid_auto_columns": null,
      "grid_auto_flow": null,
      "grid_auto_rows": null,
      "grid_column": null,
      "grid_gap": null,
      "grid_row": null,
      "grid_template_areas": null,
      "grid_template_columns": null,
      "grid_template_rows": null,
      "height": null,
      "justify_content": null,
      "justify_items": null,
      "left": null,
      "margin": null,
      "max_height": null,
      "max_width": null,
      "min_height": null,
      "min_width": null,
      "object_fit": null,
      "object_position": null,
      "order": null,
      "overflow": null,
      "overflow_x": null,
      "overflow_y": null,
      "padding": null,
      "right": null,
      "top": null,
      "visibility": null,
      "width": null
     }
    },
    "fa99bfc4521948aaafe9f42c97244dab": {
     "model_module": "@jupyter-widgets/base",
     "model_module_version": "1.2.0",
     "model_name": "LayoutModel",
     "state": {
      "_model_module": "@jupyter-widgets/base",
      "_model_module_version": "1.2.0",
      "_model_name": "LayoutModel",
      "_view_count": null,
      "_view_module": "@jupyter-widgets/base",
      "_view_module_version": "1.2.0",
      "_view_name": "LayoutView",
      "align_content": null,
      "align_items": null,
      "align_self": null,
      "border": null,
      "bottom": null,
      "display": null,
      "flex": null,
      "flex_flow": null,
      "grid_area": null,
      "grid_auto_columns": null,
      "grid_auto_flow": null,
      "grid_auto_rows": null,
      "grid_column": null,
      "grid_gap": null,
      "grid_row": null,
      "grid_template_areas": null,
      "grid_template_columns": null,
      "grid_template_rows": null,
      "height": null,
      "justify_content": null,
      "justify_items": null,
      "left": null,
      "margin": null,
      "max_height": null,
      "max_width": null,
      "min_height": null,
      "min_width": null,
      "object_fit": null,
      "object_position": null,
      "order": null,
      "overflow": null,
      "overflow_x": null,
      "overflow_y": null,
      "padding": null,
      "right": null,
      "top": null,
      "visibility": null,
      "width": null
     }
    },
    "fac06cbb759942729aba8ed40ccf86e7": {
     "model_module": "@jupyter-widgets/controls",
     "model_module_version": "1.5.0",
     "model_name": "DescriptionStyleModel",
     "state": {
      "_model_module": "@jupyter-widgets/controls",
      "_model_module_version": "1.5.0",
      "_model_name": "DescriptionStyleModel",
      "_view_count": null,
      "_view_module": "@jupyter-widgets/base",
      "_view_module_version": "1.2.0",
      "_view_name": "StyleView",
      "description_width": ""
     }
    },
    "fd1a755feb2a4b449851eef5ebcb46e8": {
     "model_module": "@jupyter-widgets/base",
     "model_module_version": "1.2.0",
     "model_name": "LayoutModel",
     "state": {
      "_model_module": "@jupyter-widgets/base",
      "_model_module_version": "1.2.0",
      "_model_name": "LayoutModel",
      "_view_count": null,
      "_view_module": "@jupyter-widgets/base",
      "_view_module_version": "1.2.0",
      "_view_name": "LayoutView",
      "align_content": null,
      "align_items": null,
      "align_self": null,
      "border": null,
      "bottom": null,
      "display": null,
      "flex": null,
      "flex_flow": null,
      "grid_area": null,
      "grid_auto_columns": null,
      "grid_auto_flow": null,
      "grid_auto_rows": null,
      "grid_column": null,
      "grid_gap": null,
      "grid_row": null,
      "grid_template_areas": null,
      "grid_template_columns": null,
      "grid_template_rows": null,
      "height": null,
      "justify_content": null,
      "justify_items": null,
      "left": null,
      "margin": null,
      "max_height": null,
      "max_width": null,
      "min_height": null,
      "min_width": null,
      "object_fit": null,
      "object_position": null,
      "order": null,
      "overflow": null,
      "overflow_x": null,
      "overflow_y": null,
      "padding": null,
      "right": null,
      "top": null,
      "visibility": null,
      "width": null
     }
    },
    "fe168bee94e54c1f959d41c637ffddc3": {
     "model_module": "@jupyter-widgets/controls",
     "model_module_version": "1.5.0",
     "model_name": "ProgressStyleModel",
     "state": {
      "_model_module": "@jupyter-widgets/controls",
      "_model_module_version": "1.5.0",
      "_model_name": "ProgressStyleModel",
      "_view_count": null,
      "_view_module": "@jupyter-widgets/base",
      "_view_module_version": "1.2.0",
      "_view_name": "StyleView",
      "bar_color": null,
      "description_width": ""
     }
    },
    "fe7d92b725d646ee996e859d7f2e3b02": {
     "model_module": "@jupyter-widgets/controls",
     "model_module_version": "1.5.0",
     "model_name": "HBoxModel",
     "state": {
      "_dom_classes": [],
      "_model_module": "@jupyter-widgets/controls",
      "_model_module_version": "1.5.0",
      "_model_name": "HBoxModel",
      "_view_count": null,
      "_view_module": "@jupyter-widgets/controls",
      "_view_module_version": "1.5.0",
      "_view_name": "HBoxView",
      "box_style": "",
      "children": [
       "IPY_MODEL_77972cdcaf094842ad52e6794ced4974",
       "IPY_MODEL_1533d0c30927467484dac0f3229e022d",
       "IPY_MODEL_db2199b6d43849d493d9f0ead9bba7b7"
      ],
      "layout": "IPY_MODEL_0b45d55a37834e81ba20e283e48d59f7"
     }
    }
   }
  }
 },
 "nbformat": 4,
 "nbformat_minor": 4
}

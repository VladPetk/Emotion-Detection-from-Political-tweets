{
 "cells": [
  {
   "cell_type": "markdown",
   "metadata": {
    "id": "NlB-xjD-dJ4G"
   },
   "source": [
    "## Setting up and loading the required libraries"
   ]
  },
  {
   "cell_type": "code",
   "execution_count": null,
   "metadata": {
    "colab": {
     "base_uri": "https://localhost:8080/",
     "height": 581
    },
    "id": "KpIJFuXBT2j-",
    "outputId": "1215a8ce-a3a0-43e4-bd76-60c39089981a"
   },
   "outputs": [
    {
     "name": "stdout",
     "output_type": "stream",
     "text": [
      "Collecting en_core_web_lg==2.2.5\n",
      "\u001b[?25l  Downloading https://github.com/explosion/spacy-models/releases/download/en_core_web_lg-2.2.5/en_core_web_lg-2.2.5.tar.gz (827.9MB)\n",
      "\u001b[K     |████████████████████████████████| 827.9MB 1.2MB/s \n",
      "\u001b[?25hRequirement already satisfied: spacy>=2.2.2 in /usr/local/lib/python3.6/dist-packages (from en_core_web_lg==2.2.5) (2.2.4)\n",
      "Requirement already satisfied: blis<0.5.0,>=0.4.0 in /usr/local/lib/python3.6/dist-packages (from spacy>=2.2.2->en_core_web_lg==2.2.5) (0.4.1)\n",
      "Requirement already satisfied: cymem<2.1.0,>=2.0.2 in /usr/local/lib/python3.6/dist-packages (from spacy>=2.2.2->en_core_web_lg==2.2.5) (2.0.3)\n",
      "Requirement already satisfied: murmurhash<1.1.0,>=0.28.0 in /usr/local/lib/python3.6/dist-packages (from spacy>=2.2.2->en_core_web_lg==2.2.5) (1.0.2)\n",
      "Requirement already satisfied: thinc==7.4.0 in /usr/local/lib/python3.6/dist-packages (from spacy>=2.2.2->en_core_web_lg==2.2.5) (7.4.0)\n",
      "Requirement already satisfied: plac<1.2.0,>=0.9.6 in /usr/local/lib/python3.6/dist-packages (from spacy>=2.2.2->en_core_web_lg==2.2.5) (1.1.3)\n",
      "Requirement already satisfied: wasabi<1.1.0,>=0.4.0 in /usr/local/lib/python3.6/dist-packages (from spacy>=2.2.2->en_core_web_lg==2.2.5) (0.6.0)\n",
      "Requirement already satisfied: srsly<1.1.0,>=1.0.2 in /usr/local/lib/python3.6/dist-packages (from spacy>=2.2.2->en_core_web_lg==2.2.5) (1.0.2)\n",
      "Requirement already satisfied: preshed<3.1.0,>=3.0.2 in /usr/local/lib/python3.6/dist-packages (from spacy>=2.2.2->en_core_web_lg==2.2.5) (3.0.2)\n",
      "Requirement already satisfied: catalogue<1.1.0,>=0.0.7 in /usr/local/lib/python3.6/dist-packages (from spacy>=2.2.2->en_core_web_lg==2.2.5) (1.0.0)\n",
      "Requirement already satisfied: tqdm<5.0.0,>=4.38.0 in /usr/local/lib/python3.6/dist-packages (from spacy>=2.2.2->en_core_web_lg==2.2.5) (4.41.1)\n",
      "Requirement already satisfied: requests<3.0.0,>=2.13.0 in /usr/local/lib/python3.6/dist-packages (from spacy>=2.2.2->en_core_web_lg==2.2.5) (2.23.0)\n",
      "Requirement already satisfied: setuptools in /usr/local/lib/python3.6/dist-packages (from spacy>=2.2.2->en_core_web_lg==2.2.5) (47.1.1)\n",
      "Requirement already satisfied: numpy>=1.15.0 in /usr/local/lib/python3.6/dist-packages (from spacy>=2.2.2->en_core_web_lg==2.2.5) (1.18.4)\n",
      "Requirement already satisfied: importlib-metadata>=0.20; python_version < \"3.8\" in /usr/local/lib/python3.6/dist-packages (from catalogue<1.1.0,>=0.0.7->spacy>=2.2.2->en_core_web_lg==2.2.5) (1.6.0)\n",
      "Requirement already satisfied: urllib3!=1.25.0,!=1.25.1,<1.26,>=1.21.1 in /usr/local/lib/python3.6/dist-packages (from requests<3.0.0,>=2.13.0->spacy>=2.2.2->en_core_web_lg==2.2.5) (1.24.3)\n",
      "Requirement already satisfied: certifi>=2017.4.17 in /usr/local/lib/python3.6/dist-packages (from requests<3.0.0,>=2.13.0->spacy>=2.2.2->en_core_web_lg==2.2.5) (2020.4.5.1)\n",
      "Requirement already satisfied: chardet<4,>=3.0.2 in /usr/local/lib/python3.6/dist-packages (from requests<3.0.0,>=2.13.0->spacy>=2.2.2->en_core_web_lg==2.2.5) (3.0.4)\n",
      "Requirement already satisfied: idna<3,>=2.5 in /usr/local/lib/python3.6/dist-packages (from requests<3.0.0,>=2.13.0->spacy>=2.2.2->en_core_web_lg==2.2.5) (2.9)\n",
      "Requirement already satisfied: zipp>=0.5 in /usr/local/lib/python3.6/dist-packages (from importlib-metadata>=0.20; python_version < \"3.8\"->catalogue<1.1.0,>=0.0.7->spacy>=2.2.2->en_core_web_lg==2.2.5) (3.1.0)\n",
      "Building wheels for collected packages: en-core-web-lg\n",
      "  Building wheel for en-core-web-lg (setup.py) ... \u001b[?25l\u001b[?25hdone\n",
      "  Created wheel for en-core-web-lg: filename=en_core_web_lg-2.2.5-cp36-none-any.whl size=829180944 sha256=705bb892b2114617d084b328d1342ea03eb27a53627509d47ff9772afd7e8429\n",
      "  Stored in directory: /tmp/pip-ephem-wheel-cache-3v4ysl0h/wheels/2a/c1/a6/fc7a877b1efca9bc6a089d6f506f16d3868408f9ff89f8dbfc\n",
      "Successfully built en-core-web-lg\n",
      "Installing collected packages: en-core-web-lg\n",
      "Successfully installed en-core-web-lg-2.2.5\n",
      "\u001b[38;5;2m✔ Download and installation successful\u001b[0m\n",
      "You can now load the model via spacy.load('en_core_web_lg')\n"
     ]
    }
   ],
   "source": [
    "!python -m spacy download en_core_web_lg\n",
    "# After downloading the model, restart the runtime, otherwise it can't be loaded\n",
    "# into memory for some reason."
   ]
  },
  {
   "cell_type": "code",
   "execution_count": null,
   "metadata": {
    "id": "iW5hW7ufT6Rd"
   },
   "outputs": [],
   "source": [
    "import spacy\n",
    "nlp = spacy.load('en_core_web_lg')"
   ]
  },
  {
   "cell_type": "code",
   "execution_count": null,
   "metadata": {
    "colab": {
     "base_uri": "https://localhost:8080/",
     "height": 85
    },
    "id": "dss-NSrJKUC-",
    "outputId": "c320ca7c-5828-4db6-a4ea-c14cca0563b8"
   },
   "outputs": [
    {
     "name": "stderr",
     "output_type": "stream",
     "text": [
      "Using TensorFlow backend.\n"
     ]
    },
    {
     "name": "stdout",
     "output_type": "stream",
     "text": [
      "[nltk_data] Downloading package punkt to /root/nltk_data...\n",
      "[nltk_data]   Unzipping tokenizers/punkt.zip.\n"
     ]
    },
    {
     "data": {
      "text/plain": [
       "True"
      ]
     },
     "execution_count": 2,
     "metadata": {
      "tags": []
     },
     "output_type": "execute_result"
    }
   ],
   "source": [
    "from sklearn import model_selection, preprocessing, linear_model, naive_bayes, metrics, svm\n",
    "from sklearn.feature_extraction.text import TfidfVectorizer, CountVectorizer\n",
    "from sklearn import decomposition, ensemble\n",
    "\n",
    "import xgboost, textblob, string\n",
    "from keras.preprocessing import text, sequence\n",
    "from keras import layers, models, optimizers\n",
    "\n",
    "from keras.models import Sequential\n",
    "from keras.layers import Dense\n",
    "from keras.layers import LSTM\n",
    "from keras.layers import Dropout\n",
    "from keras.layers.embeddings import Embedding\n",
    "from keras.preprocessing import sequence\n",
    "\n",
    "\n",
    "import pandas as pd\n",
    "import numpy as np\n",
    "\n",
    "import nltk\n",
    "nltk.download(\"punkt\")\n",
    "\n",
    "from nltk.stem.snowball import SnowballStemmer"
   ]
  },
  {
   "cell_type": "code",
   "execution_count": null,
   "metadata": {
    "id": "Et80ZQN3C99Y"
   },
   "outputs": [],
   "source": [
    "from numpy import array\n",
    "from keras.preprocessing.text import one_hot\n",
    "from keras.preprocessing.sequence import pad_sequences\n",
    "from keras.models import Sequential\n",
    "from keras.layers.core import Activation, Dropout, Dense\n",
    "from keras.layers import Flatten, LSTM\n",
    "from keras.layers import GlobalMaxPooling1D\n",
    "from keras.models import Model\n",
    "from keras.layers.embeddings import Embedding\n",
    "from sklearn.model_selection import train_test_split\n",
    "from keras.preprocessing.text import Tokenizer\n",
    "from keras.layers import Input\n",
    "from keras.layers.merge import Concatenate\n",
    "\n",
    "import pandas as pd\n",
    "import numpy as np\n",
    "import re\n",
    "\n",
    "import matplotlib.pyplot as plt\n",
    "\n",
    "from numpy import array\n",
    "from numpy import asarray\n",
    "from numpy import zeros\n",
    "\n",
    "\n",
    "from keras.datasets import imdb\n",
    "from keras.models import Sequential\n",
    "from keras.layers import Dense\n",
    "from keras.layers import LSTM\n",
    "from keras.layers import Bidirectional\n",
    "from keras.layers.convolutional import Conv1D\n",
    "from keras.layers.convolutional import MaxPooling1D\n",
    "from keras.layers.embeddings import Embedding\n",
    "from keras.preprocessing import sequence\n",
    "\n",
    "from keras.utils import plot_model"
   ]
  },
  {
   "cell_type": "code",
   "execution_count": null,
   "metadata": {
    "colab": {
     "base_uri": "https://localhost:8080/",
     "height": 85
    },
    "id": "GEdjW3HHZSJg",
    "outputId": "356da746-9880-4aa0-eb80-3b9ddceceb5b"
   },
   "outputs": [
    {
     "name": "stdout",
     "output_type": "stream",
     "text": [
      "[nltk_data] Downloading package averaged_perceptron_tagger to\n",
      "[nltk_data]     /root/nltk_data...\n",
      "[nltk_data]   Unzipping taggers/averaged_perceptron_tagger.zip.\n"
     ]
    },
    {
     "data": {
      "text/plain": [
       "True"
      ]
     },
     "execution_count": 4,
     "metadata": {
      "tags": []
     },
     "output_type": "execute_result"
    }
   ],
   "source": [
    "nltk.download('averaged_perceptron_tagger')"
   ]
  },
  {
   "cell_type": "markdown",
   "metadata": {
    "id": "PrCkDp4pdSgA"
   },
   "source": [
    "# Uploading the data\n",
    "\n",
    "The data has already been split into training, testing, and validation sets."
   ]
  },
  {
   "cell_type": "code",
   "execution_count": null,
   "metadata": {
    "id": "Je59YLQXKFlS"
   },
   "outputs": [],
   "source": [
    "train = pd.read_csv(\"train.txt\", sep=\"\\t\")\n",
    "test = pd.read_csv(\"test.txt\", sep=\"\\t\")\n",
    "dev = pd.read_csv(\"dev.txt\", sep = \"\\t\")\n",
    "train = train[[\"Tweet\", \"anger\", \"fear\", \"pessimism\", \"sadness\"]]\n",
    "test = test[[\"Tweet\", \"anger\", \"fear\", \"pessimism\", \"sadness\"]]\n",
    "dev = dev[[\"Tweet\", \"anger\", \"fear\", \"pessimism\", \"sadness\"]]\n",
    "#train = pd.concat([train, dev])\n",
    "\n",
    "train_labels = train[[\"anger\", \"fear\",\"pessimism\",\"sadness\"]]\n",
    "test_labels = test[[\"anger\", \"fear\",\"pessimism\",\"sadness\"]]"
   ]
  },
  {
   "cell_type": "code",
   "execution_count": null,
   "metadata": {
    "id": "ZXvyPQfRKUK-"
   },
   "outputs": [],
   "source": [
    "trainDF = pd.concat([train, test])"
   ]
  },
  {
   "cell_type": "code",
   "execution_count": null,
   "metadata": {
    "id": "mpWl4EG7QOtN"
   },
   "outputs": [],
   "source": [
    "train_xd = train[\"Tweet\"]\n",
    "valid_xd = test[\"Tweet\"]\n",
    "\n",
    "train_y = train_labels.values\n",
    "valid_y = test_labels.values"
   ]
  },
  {
   "cell_type": "code",
   "execution_count": null,
   "metadata": {
    "id": "c93FIqVeyH6O"
   },
   "outputs": [],
   "source": [
    "train_df = pd.read_csv(\"train1_colab.csv\")"
   ]
  },
  {
   "cell_type": "code",
   "execution_count": null,
   "metadata": {
    "id": "l0GNY4zapGEG"
   },
   "outputs": [],
   "source": [
    "stemmer = SnowballStemmer(\"english\")\n",
    "stop_words = spacy.lang.en.stop_words.STOP_WORDS"
   ]
  },
  {
   "cell_type": "code",
   "execution_count": 1,
   "metadata": {
    "id": "LxwNyFuIoYqG"
   },
   "outputs": [],
   "source": [
    "# A helper function that pre-processes the text input\n",
    "\n",
    "def clean_text(X):\n",
    "  documents = []\n",
    "  for sen in range(0, len(X)):  \n",
    "      # Remove all the special characters\n",
    "      document = re.sub(r'\\W', ' ', str(X[sen]))\n",
    "\n",
    "      # remove all single characters\n",
    "      document = re.sub(r'\\s+[a-zA-Z]\\s+', ' ', document)\n",
    "\n",
    "      # Remove single characters from the start\n",
    "      document = re.sub(r'\\^[a-zA-Z]\\s+', ' ', document) \n",
    "\n",
    "      # Substituting multiple spaces with single space\n",
    "      document = re.sub(r'\\s+', ' ', document, flags=re.I)\n",
    "\n",
    "      # Removing prefixed 'b'\n",
    "      document = re.sub(r'^b\\s+', '', document)\n",
    "\n",
    "      # Converting to Lowercase\n",
    "      document = document.lower()\n",
    "      \n",
    "      # Lemmatization & stop words\n",
    "      document = document.split()\n",
    "      document = [word for word in document if word not in stop_words]\n",
    "      document = ' '.join(document)\n",
    "      documents.append(document)\n",
    "  return(documents)"
   ]
  },
  {
   "cell_type": "code",
   "execution_count": null,
   "metadata": {
    "id": "OPBOHU6ep54F"
   },
   "outputs": [],
   "source": [
    "train_x = clean_text(train_xd)"
   ]
  },
  {
   "cell_type": "code",
   "execution_count": null,
   "metadata": {
    "id": "FTvCywAfqDCF"
   },
   "outputs": [],
   "source": [
    "valid_x = clean_text(valid_xd)"
   ]
  },
  {
   "cell_type": "markdown",
   "metadata": {
    "id": "mR7JYKaxdfMW"
   },
   "source": [
    "# Various pre-processing options"
   ]
  },
  {
   "cell_type": "markdown",
   "metadata": {
    "id": "emMui0V2eSBG"
   },
   "source": [
    "### Word embedding\n",
    "\n",
    "Padding the pre-processed text and running it through a Spacey vectorizer (with pre-trained embeddings)"
   ]
  },
  {
   "cell_type": "code",
   "execution_count": null,
   "metadata": {
    "id": "QSqLAcVctnWh"
   },
   "outputs": [],
   "source": [
    "all_tweets = clean_text(trainDF[\"Tweet\"].tolist())"
   ]
  },
  {
   "cell_type": "code",
   "execution_count": null,
   "metadata": {
    "id": "5CvtetqKTQWF"
   },
   "outputs": [],
   "source": [
    "tokenizer = text.Tokenizer()\n",
    "#all_tweets = clean_text(trainDF[\"Tweet\"])\n",
    "tokenizer.fit_on_texts(all_tweets)\n",
    "\n",
    "train_seq_x = tokenizer.texts_to_sequences(train_x)\n",
    "valid_seq_x = tokenizer.texts_to_sequences(valid_x)\n",
    "\n",
    "vocab_size = len(tokenizer.word_index) + 1\n",
    "\n",
    "maxlen = 50\n",
    "\n",
    "train_seq_x = sequence.pad_sequences(train_seq_x, padding='post', maxlen=maxlen)\n",
    "valid_seq_x = sequence.pad_sequences(valid_seq_x, padding='post', maxlen=maxlen)"
   ]
  },
  {
   "cell_type": "code",
   "execution_count": null,
   "metadata": {
    "id": "Qr_UP1L0KUUh"
   },
   "outputs": [],
   "source": [
    "embedding_matrix = np.zeros((vocab_size, 300))\n",
    "for word, index in tokenizer.word_index.items():\n",
    "    embedding_vector = nlp(word).vector\n",
    "    if embedding_vector is not None:\n",
    "        embedding_matrix[index] = embedding_vector"
   ]
  },
  {
   "cell_type": "code",
   "execution_count": null,
   "metadata": {
    "colab": {
     "base_uri": "https://localhost:8080/",
     "height": 419
    },
    "id": "iKkPen6DvRLC",
    "outputId": "ff07b5f8-5737-4a5c-c8ee-3f498e5a49cd"
   },
   "outputs": [
    {
     "data": {
      "text/html": [
       "<div>\n",
       "<style scoped>\n",
       "    .dataframe tbody tr th:only-of-type {\n",
       "        vertical-align: middle;\n",
       "    }\n",
       "\n",
       "    .dataframe tbody tr th {\n",
       "        vertical-align: top;\n",
       "    }\n",
       "\n",
       "    .dataframe thead th {\n",
       "        text-align: right;\n",
       "    }\n",
       "</style>\n",
       "<table border=\"1\" class=\"dataframe\">\n",
       "  <thead>\n",
       "    <tr style=\"text-align: right;\">\n",
       "      <th></th>\n",
       "      <th>Tweet</th>\n",
       "      <th>anger</th>\n",
       "      <th>fear</th>\n",
       "      <th>pessimism</th>\n",
       "      <th>sadness</th>\n",
       "    </tr>\n",
       "  </thead>\n",
       "  <tbody>\n",
       "    <tr>\n",
       "      <th>0</th>\n",
       "      <td>“Worry is a down payment on a problem you may ...</td>\n",
       "      <td>0</td>\n",
       "      <td>0</td>\n",
       "      <td>0</td>\n",
       "      <td>0</td>\n",
       "    </tr>\n",
       "    <tr>\n",
       "      <th>1</th>\n",
       "      <td>Whatever you decide to do make sure it makes y...</td>\n",
       "      <td>0</td>\n",
       "      <td>0</td>\n",
       "      <td>0</td>\n",
       "      <td>0</td>\n",
       "    </tr>\n",
       "    <tr>\n",
       "      <th>2</th>\n",
       "      <td>@Max_Kellerman  it also helps that the majorit...</td>\n",
       "      <td>1</td>\n",
       "      <td>0</td>\n",
       "      <td>0</td>\n",
       "      <td>0</td>\n",
       "    </tr>\n",
       "    <tr>\n",
       "      <th>3</th>\n",
       "      <td>Accept the challenges so that you can literall...</td>\n",
       "      <td>0</td>\n",
       "      <td>0</td>\n",
       "      <td>0</td>\n",
       "      <td>0</td>\n",
       "    </tr>\n",
       "    <tr>\n",
       "      <th>4</th>\n",
       "      <td>My roommate: it's okay that we can't spell bec...</td>\n",
       "      <td>1</td>\n",
       "      <td>0</td>\n",
       "      <td>0</td>\n",
       "      <td>0</td>\n",
       "    </tr>\n",
       "    <tr>\n",
       "      <th>...</th>\n",
       "      <td>...</td>\n",
       "      <td>...</td>\n",
       "      <td>...</td>\n",
       "      <td>...</td>\n",
       "      <td>...</td>\n",
       "    </tr>\n",
       "    <tr>\n",
       "      <th>3254</th>\n",
       "      <td>shaft abrasions from panties merely shifted to...</td>\n",
       "      <td>1</td>\n",
       "      <td>0</td>\n",
       "      <td>1</td>\n",
       "      <td>0</td>\n",
       "    </tr>\n",
       "    <tr>\n",
       "      <th>3255</th>\n",
       "      <td>@lomadia heard of Remothered? Indie horror gam...</td>\n",
       "      <td>0</td>\n",
       "      <td>0</td>\n",
       "      <td>1</td>\n",
       "      <td>0</td>\n",
       "    </tr>\n",
       "    <tr>\n",
       "      <th>3256</th>\n",
       "      <td>All this fake outrage. Y'all need to stop 🤣</td>\n",
       "      <td>1</td>\n",
       "      <td>0</td>\n",
       "      <td>0</td>\n",
       "      <td>0</td>\n",
       "    </tr>\n",
       "    <tr>\n",
       "      <th>3257</th>\n",
       "      <td>Would be ever so grateful if you could record ...</td>\n",
       "      <td>0</td>\n",
       "      <td>0</td>\n",
       "      <td>0</td>\n",
       "      <td>0</td>\n",
       "    </tr>\n",
       "    <tr>\n",
       "      <th>3258</th>\n",
       "      <td>I'm the wholesome drunk that sends people meme...</td>\n",
       "      <td>0</td>\n",
       "      <td>0</td>\n",
       "      <td>0</td>\n",
       "      <td>0</td>\n",
       "    </tr>\n",
       "  </tbody>\n",
       "</table>\n",
       "<p>10097 rows × 5 columns</p>\n",
       "</div>"
      ],
      "text/plain": [
       "                                                  Tweet  ...  sadness\n",
       "0     “Worry is a down payment on a problem you may ...  ...        0\n",
       "1     Whatever you decide to do make sure it makes y...  ...        0\n",
       "2     @Max_Kellerman  it also helps that the majorit...  ...        0\n",
       "3     Accept the challenges so that you can literall...  ...        0\n",
       "4     My roommate: it's okay that we can't spell bec...  ...        0\n",
       "...                                                 ...  ...      ...\n",
       "3254  shaft abrasions from panties merely shifted to...  ...        0\n",
       "3255  @lomadia heard of Remothered? Indie horror gam...  ...        0\n",
       "3256        All this fake outrage. Y'all need to stop 🤣  ...        0\n",
       "3257  Would be ever so grateful if you could record ...  ...        0\n",
       "3258  I'm the wholesome drunk that sends people meme...  ...        0\n",
       "\n",
       "[10097 rows x 5 columns]"
      ]
     },
     "execution_count": 19,
     "metadata": {
      "tags": []
     },
     "output_type": "execute_result"
    }
   ],
   "source": [
    "trainDF"
   ]
  },
  {
   "cell_type": "markdown",
   "metadata": {
    "id": "0H8U-v3pe2iA"
   },
   "source": [
    "# Additional Features\n",
    "\n",
    "To assist the model in detecting the emotions, we will engineer some additional feautures that will be fed to the model concurrently with the text input"
   ]
  },
  {
   "cell_type": "code",
   "execution_count": null,
   "metadata": {
    "id": "OZMHCjvYXtxG"
   },
   "outputs": [],
   "source": [
    "trainDF['char_count'] = trainDF['Tweet'].apply(len) # number of characters\n",
    "trainDF['word_count'] = trainDF['Tweet'].apply(lambda x: len(x.split())) # word count\n",
    "trainDF['word_density'] = trainDF['char_count'] / (trainDF['word_count']+1) # word density\n",
    "trainDF['punctuation_count'] = trainDF['Tweet'].apply(lambda x: len(\"\".join(_ for _ in x if _ in string.punctuation))) # punctuation count\n",
    "trainDF['title_word_count'] = trainDF['Tweet'].apply(lambda x: len([wrd for wrd in x.split() if wrd.istitle()])) # title count\n",
    "trainDF['upper_case_word_count'] = trainDF['Tweet'].apply(lambda x: len([wrd for wrd in x.split() if wrd.isupper()])) # upper case count"
   ]
  },
  {
   "cell_type": "markdown",
   "metadata": {},
   "source": [
    "Calculating counts of parts of speech"
   ]
  },
  {
   "cell_type": "code",
   "execution_count": null,
   "metadata": {
    "id": "muha-UVCX507"
   },
   "outputs": [],
   "source": [
    "pos_family = {\n",
    "    'noun' : ['NN','NNS','NNP','NNPS'],\n",
    "    'pron' : ['PRP','PRP$','WP','WP$'],\n",
    "    'verb' : ['VB','VBD','VBG','VBN','VBP','VBZ'],\n",
    "    'adj' :  ['JJ','JJR','JJS'],\n",
    "    'adv' : ['RB','RBR','RBS','WRB']\n",
    "}\n",
    "\n",
    "# function to check and get the part of speech tag count of a words in a given sentence\n",
    "def check_pos_tag(x, flag):\n",
    "    cnt = 0\n",
    "    try:\n",
    "        wiki = textblob.TextBlob(x)\n",
    "        for tup in wiki.tags:\n",
    "            ppo = list(tup)[1]\n",
    "            if ppo in pos_family[flag]:\n",
    "                cnt += 1\n",
    "    except:\n",
    "        pass\n",
    "    return cnt"
   ]
  },
  {
   "cell_type": "code",
   "execution_count": null,
   "metadata": {
    "id": "5rtYN08pYHci"
   },
   "outputs": [],
   "source": [
    "trainDF['noun_count'] = trainDF['Tweet'].apply(lambda x: check_pos_tag(x, 'noun'))\n",
    "trainDF['verb_count'] = trainDF['Tweet'].apply(lambda x: check_pos_tag(x, 'verb'))\n",
    "trainDF['adj_count'] = trainDF['Tweet'].apply(lambda x: check_pos_tag(x, 'adj'))\n",
    "trainDF['adv_count'] = trainDF['Tweet'].apply(lambda x: check_pos_tag(x, 'adv'))\n",
    "trainDF['pron_count'] = trainDF['Tweet'].apply(lambda x: check_pos_tag(x, 'pron'))"
   ]
  },
  {
   "cell_type": "code",
   "execution_count": null,
   "metadata": {
    "colab": {
     "base_uri": "https://localhost:8080/",
     "height": 881
    },
    "id": "aeveW-k-wO-T",
    "outputId": "8c165f44-5f27-4a56-d40e-a0ce3bd51af2"
   },
   "outputs": [
    {
     "data": {
      "text/html": [
       "<div>\n",
       "<style scoped>\n",
       "    .dataframe tbody tr th:only-of-type {\n",
       "        vertical-align: middle;\n",
       "    }\n",
       "\n",
       "    .dataframe tbody tr th {\n",
       "        vertical-align: top;\n",
       "    }\n",
       "\n",
       "    .dataframe thead th {\n",
       "        text-align: right;\n",
       "    }\n",
       "</style>\n",
       "<table border=\"1\" class=\"dataframe\">\n",
       "  <thead>\n",
       "    <tr style=\"text-align: right;\">\n",
       "      <th></th>\n",
       "      <th>Tweet</th>\n",
       "      <th>anger</th>\n",
       "      <th>fear</th>\n",
       "      <th>pessimism</th>\n",
       "      <th>sadness</th>\n",
       "      <th>char_count</th>\n",
       "      <th>word_count</th>\n",
       "      <th>word_density</th>\n",
       "      <th>punctuation_count</th>\n",
       "      <th>title_word_count</th>\n",
       "      <th>upper_case_word_count</th>\n",
       "      <th>noun_count</th>\n",
       "      <th>verb_count</th>\n",
       "      <th>adj_count</th>\n",
       "      <th>adv_count</th>\n",
       "      <th>pron_count</th>\n",
       "    </tr>\n",
       "  </thead>\n",
       "  <tbody>\n",
       "    <tr>\n",
       "      <th>0</th>\n",
       "      <td>“Worry is a down payment on a problem you may ...</td>\n",
       "      <td>0</td>\n",
       "      <td>0</td>\n",
       "      <td>0</td>\n",
       "      <td>0</td>\n",
       "      <td>104</td>\n",
       "      <td>17</td>\n",
       "      <td>5.777778</td>\n",
       "      <td>6</td>\n",
       "      <td>3</td>\n",
       "      <td>0</td>\n",
       "      <td>9</td>\n",
       "      <td>2</td>\n",
       "      <td>1</td>\n",
       "      <td>1</td>\n",
       "      <td>1</td>\n",
       "    </tr>\n",
       "    <tr>\n",
       "      <th>1</th>\n",
       "      <td>Whatever you decide to do make sure it makes y...</td>\n",
       "      <td>0</td>\n",
       "      <td>0</td>\n",
       "      <td>0</td>\n",
       "      <td>0</td>\n",
       "      <td>56</td>\n",
       "      <td>11</td>\n",
       "      <td>4.666667</td>\n",
       "      <td>2</td>\n",
       "      <td>1</td>\n",
       "      <td>0</td>\n",
       "      <td>0</td>\n",
       "      <td>4</td>\n",
       "      <td>2</td>\n",
       "      <td>0</td>\n",
       "      <td>3</td>\n",
       "    </tr>\n",
       "    <tr>\n",
       "      <th>2</th>\n",
       "      <td>@Max_Kellerman  it also helps that the majorit...</td>\n",
       "      <td>1</td>\n",
       "      <td>0</td>\n",
       "      <td>0</td>\n",
       "      <td>0</td>\n",
       "      <td>128</td>\n",
       "      <td>22</td>\n",
       "      <td>5.565217</td>\n",
       "      <td>8</td>\n",
       "      <td>3</td>\n",
       "      <td>2</td>\n",
       "      <td>8</td>\n",
       "      <td>4</td>\n",
       "      <td>3</td>\n",
       "      <td>1</td>\n",
       "      <td>1</td>\n",
       "    </tr>\n",
       "    <tr>\n",
       "      <th>3</th>\n",
       "      <td>Accept the challenges so that you can literall...</td>\n",
       "      <td>0</td>\n",
       "      <td>0</td>\n",
       "      <td>0</td>\n",
       "      <td>0</td>\n",
       "      <td>109</td>\n",
       "      <td>19</td>\n",
       "      <td>5.450000</td>\n",
       "      <td>5</td>\n",
       "      <td>4</td>\n",
       "      <td>1</td>\n",
       "      <td>7</td>\n",
       "      <td>1</td>\n",
       "      <td>0</td>\n",
       "      <td>3</td>\n",
       "      <td>1</td>\n",
       "    </tr>\n",
       "    <tr>\n",
       "      <th>4</th>\n",
       "      <td>My roommate: it's okay that we can't spell bec...</td>\n",
       "      <td>1</td>\n",
       "      <td>0</td>\n",
       "      <td>0</td>\n",
       "      <td>0</td>\n",
       "      <td>98</td>\n",
       "      <td>14</td>\n",
       "      <td>6.533333</td>\n",
       "      <td>6</td>\n",
       "      <td>1</td>\n",
       "      <td>0</td>\n",
       "      <td>2</td>\n",
       "      <td>3</td>\n",
       "      <td>3</td>\n",
       "      <td>1</td>\n",
       "      <td>4</td>\n",
       "    </tr>\n",
       "    <tr>\n",
       "      <th>...</th>\n",
       "      <td>...</td>\n",
       "      <td>...</td>\n",
       "      <td>...</td>\n",
       "      <td>...</td>\n",
       "      <td>...</td>\n",
       "      <td>...</td>\n",
       "      <td>...</td>\n",
       "      <td>...</td>\n",
       "      <td>...</td>\n",
       "      <td>...</td>\n",
       "      <td>...</td>\n",
       "      <td>...</td>\n",
       "      <td>...</td>\n",
       "      <td>...</td>\n",
       "      <td>...</td>\n",
       "      <td>...</td>\n",
       "    </tr>\n",
       "    <tr>\n",
       "      <th>3254</th>\n",
       "      <td>shaft abrasions from panties merely shifted to...</td>\n",
       "      <td>1</td>\n",
       "      <td>0</td>\n",
       "      <td>1</td>\n",
       "      <td>0</td>\n",
       "      <td>110</td>\n",
       "      <td>11</td>\n",
       "      <td>9.166667</td>\n",
       "      <td>5</td>\n",
       "      <td>0</td>\n",
       "      <td>0</td>\n",
       "      <td>7</td>\n",
       "      <td>1</td>\n",
       "      <td>0</td>\n",
       "      <td>1</td>\n",
       "      <td>0</td>\n",
       "    </tr>\n",
       "    <tr>\n",
       "      <th>3255</th>\n",
       "      <td>@lomadia heard of Remothered? Indie horror gam...</td>\n",
       "      <td>0</td>\n",
       "      <td>0</td>\n",
       "      <td>1</td>\n",
       "      <td>0</td>\n",
       "      <td>131</td>\n",
       "      <td>21</td>\n",
       "      <td>5.954545</td>\n",
       "      <td>5</td>\n",
       "      <td>4</td>\n",
       "      <td>0</td>\n",
       "      <td>9</td>\n",
       "      <td>3</td>\n",
       "      <td>4</td>\n",
       "      <td>0</td>\n",
       "      <td>0</td>\n",
       "    </tr>\n",
       "    <tr>\n",
       "      <th>3256</th>\n",
       "      <td>All this fake outrage. Y'all need to stop 🤣</td>\n",
       "      <td>1</td>\n",
       "      <td>0</td>\n",
       "      <td>0</td>\n",
       "      <td>0</td>\n",
       "      <td>43</td>\n",
       "      <td>9</td>\n",
       "      <td>4.300000</td>\n",
       "      <td>2</td>\n",
       "      <td>1</td>\n",
       "      <td>0</td>\n",
       "      <td>3</td>\n",
       "      <td>1</td>\n",
       "      <td>1</td>\n",
       "      <td>0</td>\n",
       "      <td>0</td>\n",
       "    </tr>\n",
       "    <tr>\n",
       "      <th>3257</th>\n",
       "      <td>Would be ever so grateful if you could record ...</td>\n",
       "      <td>0</td>\n",
       "      <td>0</td>\n",
       "      <td>0</td>\n",
       "      <td>0</td>\n",
       "      <td>106</td>\n",
       "      <td>16</td>\n",
       "      <td>6.235294</td>\n",
       "      <td>3</td>\n",
       "      <td>3</td>\n",
       "      <td>0</td>\n",
       "      <td>7</td>\n",
       "      <td>3</td>\n",
       "      <td>1</td>\n",
       "      <td>2</td>\n",
       "      <td>1</td>\n",
       "    </tr>\n",
       "    <tr>\n",
       "      <th>3258</th>\n",
       "      <td>I'm the wholesome drunk that sends people meme...</td>\n",
       "      <td>0</td>\n",
       "      <td>0</td>\n",
       "      <td>0</td>\n",
       "      <td>0</td>\n",
       "      <td>83</td>\n",
       "      <td>15</td>\n",
       "      <td>5.187500</td>\n",
       "      <td>1</td>\n",
       "      <td>0</td>\n",
       "      <td>0</td>\n",
       "      <td>5</td>\n",
       "      <td>2</td>\n",
       "      <td>1</td>\n",
       "      <td>0</td>\n",
       "      <td>2</td>\n",
       "    </tr>\n",
       "  </tbody>\n",
       "</table>\n",
       "<p>10097 rows × 16 columns</p>\n",
       "</div>"
      ],
      "text/plain": [
       "                                                  Tweet  ...  pron_count\n",
       "0     “Worry is a down payment on a problem you may ...  ...           1\n",
       "1     Whatever you decide to do make sure it makes y...  ...           3\n",
       "2     @Max_Kellerman  it also helps that the majorit...  ...           1\n",
       "3     Accept the challenges so that you can literall...  ...           1\n",
       "4     My roommate: it's okay that we can't spell bec...  ...           4\n",
       "...                                                 ...  ...         ...\n",
       "3254  shaft abrasions from panties merely shifted to...  ...           0\n",
       "3255  @lomadia heard of Remothered? Indie horror gam...  ...           0\n",
       "3256        All this fake outrage. Y'all need to stop 🤣  ...           0\n",
       "3257  Would be ever so grateful if you could record ...  ...           1\n",
       "3258  I'm the wholesome drunk that sends people meme...  ...           2\n",
       "\n",
       "[10097 rows x 16 columns]"
      ]
     },
     "execution_count": 23,
     "metadata": {
      "tags": []
     },
     "output_type": "execute_result"
    }
   ],
   "source": [
    "trainDF"
   ]
  },
  {
   "cell_type": "markdown",
   "metadata": {
    "id": "ZFSv879ukYV9"
   },
   "source": [
    "#### Emotional Lexicon\n",
    "\n",
    "Calculating the number of words per tweet that are known to (usually) convey a sense of fear. Unlikely to help, but worth a try"
   ]
  },
  {
   "cell_type": "code",
   "execution_count": null,
   "metadata": {
    "id": "7S_0NzGWk53e"
   },
   "outputs": [],
   "source": [
    "nrc = pd.read_csv(\"nrc_dict.txt\", sep = \"\\t\")\n",
    "\n",
    "fear_df = nrc.loc[nrc['anger'].isin(['fear'])]\n",
    "fear_df = fear_df.loc[fear_df['0'].isin(['1'])]"
   ]
  },
  {
   "cell_type": "code",
   "execution_count": null,
   "metadata": {
    "id": "ahXqfrDX0C0y"
   },
   "outputs": [],
   "source": [
    "def emotion_count(x, emotion_df):\n",
    "  words = nltk.word_tokenize(x)\n",
    "  counter = 0\n",
    "  matchy = set(words).intersection(emotion_df[\"aback\"])\n",
    "  return len(matchy)\n",
    "\n",
    "trainDF['fear_count'] = trainDF['Tweet'].apply(lambda x: emotion_count(x, fear_df))"
   ]
  },
  {
   "cell_type": "code",
   "execution_count": null,
   "metadata": {
    "id": "9Sm-YTBPGqKo"
   },
   "outputs": [],
   "source": [
    "meta_df = trainDF.loc[trainDF[\"Tweet\"].isin(train_xd)]"
   ]
  },
  {
   "cell_type": "code",
   "execution_count": null,
   "metadata": {
    "colab": {
     "base_uri": "https://localhost:8080/",
     "height": 34
    },
    "id": "f6EAcTronyhg",
    "outputId": "336a6740-d1e9-4429-fead-4205cbf4b358"
   },
   "outputs": [
    {
     "data": {
      "text/plain": [
       "(6838, 12)"
      ]
     },
     "execution_count": 28,
     "metadata": {
      "tags": []
     },
     "output_type": "execute_result"
    }
   ],
   "source": [
    "meta_features = meta_df.iloc[:,5:17].to_numpy()\n",
    "meta_features.shape"
   ]
  },
  {
   "cell_type": "code",
   "execution_count": null,
   "metadata": {
    "colab": {
     "base_uri": "https://localhost:8080/",
     "height": 34
    },
    "id": "mw9iXoxGErXq",
    "outputId": "cd129411-585e-4f2f-a770-da86bd234aca"
   },
   "outputs": [
    {
     "data": {
      "text/plain": [
       "(3259, 12)"
      ]
     },
     "execution_count": 29,
     "metadata": {
      "tags": []
     },
     "output_type": "execute_result"
    }
   ],
   "source": [
    "meta_val = trainDF.loc[trainDF[\"Tweet\"].isin(valid_xd)]\n",
    "meta_val_f = meta_val.iloc[:,5:17].to_numpy()\n",
    "meta_val_f.shape"
   ]
  },
  {
   "cell_type": "markdown",
   "metadata": {
    "id": "Wz-LajqafFfu"
   },
   "source": [
    "## Model Building"
   ]
  },
  {
   "cell_type": "code",
   "execution_count": null,
   "metadata": {
    "id": "tpgYNfpPI86-"
   },
   "outputs": [],
   "source": [
    "deep_inputs = Input(shape=(50,))\n",
    "meta_inputs = Input(shape=(12,))\n",
    "embedding_layer = Embedding(vocab_size, 300, weights=[embedding_matrix], trainable=False)(deep_inputs)\n",
    "conv_layer = Conv1D(filters=128, kernel_size=5, padding='same', activation='relu')(embedding_layer)\n",
    "conv_layer = MaxPooling1D(pool_size=2)(conv_layer)\n",
    "LSTM_Layer_1 = Bidirectional(LSTM(128, dropout=0.5, recurrent_dropout=0.2))(conv_layer)\n",
    "\n",
    "x = layers.concatenate([LSTM_Layer_1, meta_inputs]) # Combining the LSTM'ed text input with the additional feautures\n",
    "x = Dense(128, activation='relu')(x)\n",
    "x = Dense(1, activation='sigmoid')(x)\n",
    "model = Model(inputs=[deep_inputs, meta_inputs], outputs= x)\n",
    "\n",
    "model.compile(loss='binary_crossentropy', optimizer='adam', metrics=['accuracy'])"
   ]
  },
  {
   "cell_type": "code",
   "execution_count": null,
   "metadata": {
    "colab": {
     "base_uri": "https://localhost:8080/",
     "height": 204
    },
    "id": "o0OM4d4GOW_K",
    "outputId": "d6a28c5e-f394-4802-96e7-cfde2bd158d7"
   },
   "outputs": [
    {
     "name": "stdout",
     "output_type": "stream",
     "text": [
      "Train on 5470 samples, validate on 1368 samples\n",
      "Epoch 1/5\n",
      "5470/5470 [==============================] - 20s 4ms/step - loss: 0.9527 - accuracy: 0.7395 - val_loss: 0.5816 - val_accuracy: 0.8363\n",
      "Epoch 2/5\n",
      "5470/5470 [==============================] - 19s 3ms/step - loss: 0.4863 - accuracy: 0.8821 - val_loss: 0.5442 - val_accuracy: 0.8618\n",
      "Epoch 3/5\n",
      "5470/5470 [==============================] - 20s 4ms/step - loss: 0.4131 - accuracy: 0.8936 - val_loss: 0.6482 - val_accuracy: 0.7844\n",
      "Epoch 4/5\n",
      "5470/5470 [==============================] - 19s 3ms/step - loss: 0.3229 - accuracy: 0.9157 - val_loss: 0.6711 - val_accuracy: 0.8553\n",
      "Epoch 5/5\n",
      "5470/5470 [==============================] - 19s 3ms/step - loss: 0.2407 - accuracy: 0.9344 - val_loss: 0.8612 - val_accuracy: 0.8940\n"
     ]
    }
   ],
   "source": [
    "# We are running the model for only 5 epochs. judging by the steady drop is loss and validation accuracy, more epochs would be useful.\n",
    "history = model.fit([train_seq_x, meta_features], train_y[:,1], batch_size=32, epochs=5, verbose=1, validation_split=0.2, class_weight={0:1, 1:3})"
   ]
  },
  {
   "cell_type": "code",
   "execution_count": null,
   "metadata": {
    "colab": {
     "base_uri": "https://localhost:8080/",
     "height": 865
    },
    "id": "iq3YFgm3Trfz",
    "outputId": "0f99c516-c0dc-40a7-de0a-8a3171021900"
   },
   "outputs": [
    {
     "data": {
      "image/png": "[encoded data removed]",
      "text/plain": [
       "<IPython.core.display.Image object>"
      ]
     },
     "execution_count": 32,
     "metadata": {
      "tags": []
     },
     "output_type": "execute_result"
    }
   ],
   "source": [
    "plot_model(model, show_shapes = True, to_file='model.png')"
   ]
  },
  {
   "cell_type": "markdown",
   "metadata": {},
   "source": [
    "## Evaluation"
   ]
  },
  {
   "cell_type": "code",
   "execution_count": null,
   "metadata": {
    "id": "dJlk2H6fXR9Z"
   },
   "outputs": [],
   "source": [
    "predictions = model.predict([valid_seq_x, meta_val_f])"
   ]
  },
  {
   "cell_type": "code",
   "execution_count": null,
   "metadata": {
    "id": "uZgFcRl3bY1P"
   },
   "outputs": [],
   "source": [
    "# Transforming the probabilities into binary forms (with a simple 0.5 split)\n",
    "predictions2 = predictions\n",
    "predictions2[predictions2 >= 0.5] = 1\n",
    "predictions2[predictions2 < 0.5] = 0"
   ]
  },
  {
   "cell_type": "markdown",
   "metadata": {},
   "source": [
    "#### The results are not bad, given the nature of the task, though certain improvements could be made. The model is great a recognizing when a tweet is not 'fearful', but it misses quite a few tweets that do contain fear."
   ]
  },
  {
   "cell_type": "code",
   "execution_count": null,
   "metadata": {
    "colab": {
     "base_uri": "https://localhost:8080/",
     "height": 170
    },
    "id": "WFwnVGgsd-Xd",
    "outputId": "044b12df-3c59-42d4-9c93-2a63fbe47ed9"
   },
   "outputs": [
    {
     "name": "stdout",
     "output_type": "stream",
     "text": [
      "              precision    recall  f1-score   support\n",
      "\n",
      "         0.0       0.96      0.94      0.95      2831\n",
      "         1.0       0.63      0.72      0.67       428\n",
      "\n",
      "    accuracy                           0.91      3259\n",
      "   macro avg       0.79      0.83      0.81      3259\n",
      "weighted avg       0.91      0.91      0.91      3259\n",
      "\n"
     ]
    }
   ],
   "source": [
    "print(metrics.classification_report(predictions2, valid_y[:,1]))"
   ]
  },
  {
   "cell_type": "markdown",
   "metadata": {
    "id": "ZRw_CIIS_AA_"
   },
   "source": [
    "## Predictions on own data"
   ]
  },
  {
   "cell_type": "code",
   "execution_count": null,
   "metadata": {
    "id": "PIzW6JarARqe"
   },
   "outputs": [],
   "source": [
    "emo_tw = pd.read_csv(\"emotional_tweets.csv\")"
   ]
  },
  {
   "cell_type": "code",
   "execution_count": null,
   "metadata": {
    "id": "uQt_4g8JAvVG"
   },
   "outputs": [],
   "source": [
    "emo_tw = emo_tw.sample(10000)"
   ]
  },
  {
   "cell_type": "code",
   "execution_count": null,
   "metadata": {
    "id": "LIktJNfrBE2F"
   },
   "outputs": [],
   "source": [
    "pred_x = clean_text(emo_tw[\"text\"].tolist())"
   ]
  },
  {
   "cell_type": "code",
   "execution_count": null,
   "metadata": {
    "id": "aQbn842ACKSA"
   },
   "outputs": [],
   "source": [
    "pred_seq_x = tokenizer.texts_to_sequences(pred_x)\n",
    "pred_seq_x = sequence.pad_sequences(pred_seq_x, padding='post', maxlen=maxlen)"
   ]
  },
  {
   "cell_type": "code",
   "execution_count": null,
   "metadata": {
    "id": "vr3kja4BAO5X"
   },
   "outputs": [],
   "source": [
    "emo_tw['char_count'] = emo_tw['text'].apply(len)\n",
    "emo_tw['word_count'] = emo_tw['text'].apply(lambda x: len(x.split()))\n",
    "emo_tw['word_density'] = emo_tw['char_count'] / (emo_tw['word_count']+1)\n",
    "emo_tw['punctuation_count'] = emo_tw['text'].apply(lambda x: len(\"\".join(_ for _ in x if _ in string.punctuation))) \n",
    "emo_tw['title_word_count'] = emo_tw['text'].apply(lambda x: len([wrd for wrd in x.split() if wrd.istitle()]))\n",
    "emo_tw['upper_case_word_count'] = emo_tw['text'].apply(lambda x: len([wrd for wrd in x.split() if wrd.isupper()]))"
   ]
  },
  {
   "cell_type": "code",
   "execution_count": null,
   "metadata": {
    "id": "PBH-MvmOAO56"
   },
   "outputs": [],
   "source": [
    "emo_tw['noun_count'] = emo_tw['text'].apply(lambda x: check_pos_tag(x, 'noun'))\n",
    "emo_tw['verb_count'] = emo_tw['text'].apply(lambda x: check_pos_tag(x, 'verb'))\n",
    "emo_tw['adj_count'] = emo_tw['text'].apply(lambda x: check_pos_tag(x, 'adj'))\n",
    "emo_tw['adv_count'] = emo_tw['text'].apply(lambda x: check_pos_tag(x, 'adv'))\n",
    "emo_tw['pron_count'] = emo_tw['text'].apply(lambda x: check_pos_tag(x, 'pron'))"
   ]
  },
  {
   "cell_type": "code",
   "execution_count": null,
   "metadata": {
    "id": "_WNUQu1oDGM7"
   },
   "outputs": [],
   "source": [
    "emo_tw['fear_count'] = emo_tw['text'].apply(lambda x: emotion_count(x, fear_df))\n",
    "emo_tw['anger_count'] = emo_tw['text'].apply(lambda x: emotion_count(x, anger_df))"
   ]
  },
  {
   "cell_type": "code",
   "execution_count": null,
   "metadata": {
    "colab": {
     "base_uri": "https://localhost:8080/",
     "height": 881
    },
    "id": "gcgiqCp0Dy6M",
    "outputId": "fbfb2251-02e1-4b28-e044-03360a5ecc4f"
   },
   "outputs": [
    {
     "data": {
      "text/html": [
       "<div>\n",
       "<style scoped>\n",
       "    .dataframe tbody tr th:only-of-type {\n",
       "        vertical-align: middle;\n",
       "    }\n",
       "\n",
       "    .dataframe tbody tr th {\n",
       "        vertical-align: top;\n",
       "    }\n",
       "\n",
       "    .dataframe thead th {\n",
       "        text-align: right;\n",
       "    }\n",
       "</style>\n",
       "<table border=\"1\" class=\"dataframe\">\n",
       "  <thead>\n",
       "    <tr style=\"text-align: right;\">\n",
       "      <th></th>\n",
       "      <th>Unnamed: 0</th>\n",
       "      <th>text</th>\n",
       "      <th>date</th>\n",
       "      <th>addressee</th>\n",
       "      <th>OG_tweet</th>\n",
       "      <th>fear_count</th>\n",
       "      <th>anger_count</th>\n",
       "      <th>char_count</th>\n",
       "      <th>word_count</th>\n",
       "      <th>word_density</th>\n",
       "      <th>punctuation_count</th>\n",
       "      <th>title_word_count</th>\n",
       "      <th>upper_case_word_count</th>\n",
       "      <th>noun_count</th>\n",
       "      <th>verb_count</th>\n",
       "      <th>adj_count</th>\n",
       "      <th>adv_count</th>\n",
       "      <th>pron_count</th>\n",
       "    </tr>\n",
       "  </thead>\n",
       "  <tbody>\n",
       "    <tr>\n",
       "      <th>67406</th>\n",
       "      <td>246682</td>\n",
       "      <td>@jeremycorbyn He had the look of a unemployed ...</td>\n",
       "      <td>2019-12-13</td>\n",
       "      <td>jeremycorbyn</td>\n",
       "      <td>1.177777e+08</td>\n",
       "      <td>1</td>\n",
       "      <td>0</td>\n",
       "      <td>102</td>\n",
       "      <td>19</td>\n",
       "      <td>5.100000</td>\n",
       "      <td>3</td>\n",
       "      <td>2</td>\n",
       "      <td>0</td>\n",
       "      <td>8</td>\n",
       "      <td>2</td>\n",
       "      <td>2</td>\n",
       "      <td>1</td>\n",
       "      <td>2</td>\n",
       "    </tr>\n",
       "    <tr>\n",
       "      <th>49290</th>\n",
       "      <td>180402</td>\n",
       "      <td>@BorisJohnson You even pussied out of an inter...</td>\n",
       "      <td>2019-12-11</td>\n",
       "      <td>BorisJohnson</td>\n",
       "      <td>3.131145e+09</td>\n",
       "      <td>1</td>\n",
       "      <td>0</td>\n",
       "      <td>88</td>\n",
       "      <td>13</td>\n",
       "      <td>6.285714</td>\n",
       "      <td>6</td>\n",
       "      <td>2</td>\n",
       "      <td>0</td>\n",
       "      <td>5</td>\n",
       "      <td>1</td>\n",
       "      <td>1</td>\n",
       "      <td>1</td>\n",
       "      <td>2</td>\n",
       "    </tr>\n",
       "    <tr>\n",
       "      <th>77170</th>\n",
       "      <td>283275</td>\n",
       "      <td>@BorisJohnson OMG did they teach you mathemati...</td>\n",
       "      <td>2019-11-20</td>\n",
       "      <td>BorisJohnson</td>\n",
       "      <td>3.131145e+09</td>\n",
       "      <td>2</td>\n",
       "      <td>1</td>\n",
       "      <td>290</td>\n",
       "      <td>51</td>\n",
       "      <td>5.576923</td>\n",
       "      <td>9</td>\n",
       "      <td>3</td>\n",
       "      <td>1</td>\n",
       "      <td>13</td>\n",
       "      <td>12</td>\n",
       "      <td>6</td>\n",
       "      <td>5</td>\n",
       "      <td>8</td>\n",
       "    </tr>\n",
       "    <tr>\n",
       "      <th>79429</th>\n",
       "      <td>291421</td>\n",
       "      <td>RT @mikegalsworthy: @BorisJohnson I’m afraid @...</td>\n",
       "      <td>2019-12-10</td>\n",
       "      <td>NaN</td>\n",
       "      <td>NaN</td>\n",
       "      <td>1</td>\n",
       "      <td>0</td>\n",
       "      <td>123</td>\n",
       "      <td>17</td>\n",
       "      <td>6.833333</td>\n",
       "      <td>11</td>\n",
       "      <td>1</td>\n",
       "      <td>1</td>\n",
       "      <td>9</td>\n",
       "      <td>2</td>\n",
       "      <td>4</td>\n",
       "      <td>4</td>\n",
       "      <td>1</td>\n",
       "    </tr>\n",
       "    <tr>\n",
       "      <th>67149</th>\n",
       "      <td>245727</td>\n",
       "      <td>@jeremycorbyn voted Labour had to be done cant...</td>\n",
       "      <td>2019-12-12</td>\n",
       "      <td>jeremycorbyn</td>\n",
       "      <td>1.177777e+08</td>\n",
       "      <td>0</td>\n",
       "      <td>1</td>\n",
       "      <td>255</td>\n",
       "      <td>49</td>\n",
       "      <td>5.100000</td>\n",
       "      <td>4</td>\n",
       "      <td>1</td>\n",
       "      <td>1</td>\n",
       "      <td>12</td>\n",
       "      <td>13</td>\n",
       "      <td>4</td>\n",
       "      <td>1</td>\n",
       "      <td>4</td>\n",
       "    </tr>\n",
       "    <tr>\n",
       "      <th>...</th>\n",
       "      <td>...</td>\n",
       "      <td>...</td>\n",
       "      <td>...</td>\n",
       "      <td>...</td>\n",
       "      <td>...</td>\n",
       "      <td>...</td>\n",
       "      <td>...</td>\n",
       "      <td>...</td>\n",
       "      <td>...</td>\n",
       "      <td>...</td>\n",
       "      <td>...</td>\n",
       "      <td>...</td>\n",
       "      <td>...</td>\n",
       "      <td>...</td>\n",
       "      <td>...</td>\n",
       "      <td>...</td>\n",
       "      <td>...</td>\n",
       "      <td>...</td>\n",
       "    </tr>\n",
       "    <tr>\n",
       "      <th>36777</th>\n",
       "      <td>134137</td>\n",
       "      <td>@BorisJohnson The best place in the world to l...</td>\n",
       "      <td>2019-12-12</td>\n",
       "      <td>BorisJohnson</td>\n",
       "      <td>3.131145e+09</td>\n",
       "      <td>1</td>\n",
       "      <td>1</td>\n",
       "      <td>127</td>\n",
       "      <td>24</td>\n",
       "      <td>5.080000</td>\n",
       "      <td>2</td>\n",
       "      <td>1</td>\n",
       "      <td>0</td>\n",
       "      <td>8</td>\n",
       "      <td>4</td>\n",
       "      <td>1</td>\n",
       "      <td>1</td>\n",
       "      <td>1</td>\n",
       "    </tr>\n",
       "    <tr>\n",
       "      <th>18017</th>\n",
       "      <td>66031</td>\n",
       "      <td>@BorisJohnson Same shit different bus</td>\n",
       "      <td>2019-11-23</td>\n",
       "      <td>BorisJohnson</td>\n",
       "      <td>3.131145e+09</td>\n",
       "      <td>0</td>\n",
       "      <td>1</td>\n",
       "      <td>37</td>\n",
       "      <td>5</td>\n",
       "      <td>6.166667</td>\n",
       "      <td>1</td>\n",
       "      <td>1</td>\n",
       "      <td>0</td>\n",
       "      <td>3</td>\n",
       "      <td>1</td>\n",
       "      <td>2</td>\n",
       "      <td>0</td>\n",
       "      <td>0</td>\n",
       "    </tr>\n",
       "    <tr>\n",
       "      <th>16121</th>\n",
       "      <td>59270</td>\n",
       "      <td>RT @petemorristwit: @BorisJohnson @SocialM8589...</td>\n",
       "      <td>2019-12-09</td>\n",
       "      <td>NaN</td>\n",
       "      <td>NaN</td>\n",
       "      <td>1</td>\n",
       "      <td>0</td>\n",
       "      <td>140</td>\n",
       "      <td>22</td>\n",
       "      <td>6.086957</td>\n",
       "      <td>7</td>\n",
       "      <td>2</td>\n",
       "      <td>1</td>\n",
       "      <td>10</td>\n",
       "      <td>4</td>\n",
       "      <td>1</td>\n",
       "      <td>2</td>\n",
       "      <td>2</td>\n",
       "    </tr>\n",
       "    <tr>\n",
       "      <th>36151</th>\n",
       "      <td>132065</td>\n",
       "      <td>@JohnnyMercerUK @AyoCaesar @MayaGoodfellow Ill...</td>\n",
       "      <td>2019-12-04</td>\n",
       "      <td>JohnnyMercerUK</td>\n",
       "      <td>9.740258e+07</td>\n",
       "      <td>0</td>\n",
       "      <td>0</td>\n",
       "      <td>218</td>\n",
       "      <td>42</td>\n",
       "      <td>5.069767</td>\n",
       "      <td>6</td>\n",
       "      <td>2</td>\n",
       "      <td>1</td>\n",
       "      <td>14</td>\n",
       "      <td>11</td>\n",
       "      <td>4</td>\n",
       "      <td>1</td>\n",
       "      <td>12</td>\n",
       "    </tr>\n",
       "    <tr>\n",
       "      <th>78968</th>\n",
       "      <td>289718</td>\n",
       "      <td>RT @UELHCSoc: @jeremycorbyn put party before c...</td>\n",
       "      <td>2019-12-13</td>\n",
       "      <td>NaN</td>\n",
       "      <td>NaN</td>\n",
       "      <td>0</td>\n",
       "      <td>1</td>\n",
       "      <td>143</td>\n",
       "      <td>23</td>\n",
       "      <td>5.958333</td>\n",
       "      <td>9</td>\n",
       "      <td>1</td>\n",
       "      <td>1</td>\n",
       "      <td>11</td>\n",
       "      <td>3</td>\n",
       "      <td>2</td>\n",
       "      <td>0</td>\n",
       "      <td>1</td>\n",
       "    </tr>\n",
       "  </tbody>\n",
       "</table>\n",
       "<p>10000 rows × 18 columns</p>\n",
       "</div>"
      ],
      "text/plain": [
       "       Unnamed: 0  ... pron_count\n",
       "67406      246682  ...          2\n",
       "49290      180402  ...          2\n",
       "77170      283275  ...          8\n",
       "79429      291421  ...          1\n",
       "67149      245727  ...          4\n",
       "...           ...  ...        ...\n",
       "36777      134137  ...          1\n",
       "18017       66031  ...          0\n",
       "16121       59270  ...          2\n",
       "36151      132065  ...         12\n",
       "78968      289718  ...          1\n",
       "\n",
       "[10000 rows x 18 columns]"
      ]
     },
     "execution_count": 63,
     "metadata": {
      "tags": []
     },
     "output_type": "execute_result"
    }
   ],
   "source": [
    "emo_tw"
   ]
  },
  {
   "cell_type": "code",
   "execution_count": null,
   "metadata": {
    "colab": {
     "base_uri": "https://localhost:8080/",
     "height": 34
    },
    "id": "545BIod_DGNW",
    "outputId": "e8c409df-131f-4ccd-b35a-9647916cf2d6"
   },
   "outputs": [
    {
     "data": {
      "text/plain": [
       "(10000, 12)"
      ]
     },
     "execution_count": 65,
     "metadata": {
      "tags": []
     },
     "output_type": "execute_result"
    }
   ],
   "source": [
    "meta_emo = emo_tw.iloc[:,5:17].to_numpy()\n",
    "meta_emo.shape"
   ]
  },
  {
   "cell_type": "code",
   "execution_count": null,
   "metadata": {
    "id": "hCokxQ0Y-ypE"
   },
   "outputs": [],
   "source": [
    "uk_predictions = model.predict([pred_seq_x, meta_emo])"
   ]
  },
  {
   "cell_type": "code",
   "execution_count": null,
   "metadata": {
    "id": "qrF9lQiQEQTt"
   },
   "outputs": [],
   "source": [
    "uk_predictions[uk_predictions >= 0.5] = 1\n",
    "uk_predictions[uk_predictions < 0.5] = 0"
   ]
  }
 ],
 "metadata": {
  "colab": {
   "collapsed_sections": [],
   "name": "Copy of FEAR_LSTM",
   "provenance": [],
   "toc_visible": true
  },
  "kernelspec": {
   "display_name": "Python 3",
   "language": "python",
   "name": "python3"
  },
  "language_info": {
   "codemirror_mode": {
    "name": "ipython",
    "version": 3
   },
   "file_extension": ".py",
   "mimetype": "text/x-python",
   "name": "python",
   "nbconvert_exporter": "python",
   "pygments_lexer": "ipython3",
   "version": "3.8.5"
  }
 },
 "nbformat": 4,
 "nbformat_minor": 4
}
